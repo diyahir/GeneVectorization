{
 "cells": [
  {
   "cell_type": "code",
   "execution_count": 1,
   "metadata": {},
   "outputs": [],
   "source": [
    "import os\n",
    "import pandas as pd\n",
    "import matplotlib.pyplot as plt\n",
    "import numpy as np\n",
    "from collections import Counter\n",
    "from scipy import stats\n",
    "from sklearn.preprocessing import MultiLabelBinarizer\n",
    "import tqdm\n",
    "import csv\n",
    "import gensim\n",
    "import random\n",
    "from sklearn.decomposition import PCA\n",
    "\n",
    "%config IPCompleter.greedy=True"
   ]
  },
  {
   "cell_type": "code",
   "execution_count": 2,
   "metadata": {},
   "outputs": [],
   "source": [
    "CHRPATH = '/Users/diyahirc/Documents/BCM/GeneSymChr.txt' # Change to your path"
   ]
  },
  {
   "cell_type": "code",
   "execution_count": 3,
   "metadata": {},
   "outputs": [
    {
     "name": "stderr",
     "output_type": "stream",
     "text": [
      "100%|██████████| 47468/47468 [00:00<00:00, 597675.35it/s]"
     ]
    },
    {
     "name": "stdout",
     "output_type": "stream",
     "text": [
      "Number of Genes in Mapping: 47455\n"
     ]
    },
    {
     "name": "stderr",
     "output_type": "stream",
     "text": [
      "\n"
     ]
    }
   ],
   "source": [
    "tempPath = os.path.join(CHRPATH)\n",
    "tempFile = open(tempPath,'r')\n",
    "\n",
    "geneMapping = {}\n",
    "tempLines = tempFile.readlines()\n",
    "for line in tqdm.tqdm(tempLines):\n",
    "    line = line.upper()\n",
    "    line = line.strip('\\n') \n",
    "    geneInfo = line.split('\\t') # first two entries are 'geneSet name' and 'discription'  \n",
    "    geneSymb = geneInfo[0]\n",
    "    geneLoc = geneInfo[1]\n",
    "    geneMapping[geneSymb] = geneLoc\n",
    "    \n",
    "print('Number of Genes in Mapping: {numGenes}'.format(numGenes=len(geneMapping)))"
   ]
  },
  {
   "cell_type": "code",
   "execution_count": 4,
   "metadata": {},
   "outputs": [
    {
     "ename": "FileNotFoundError",
     "evalue": "[Errno 2] No such file or directory: '/Users/diyahirc/Documents/BCM/trained_embeddings/alldata/gene2vec_dim_v2_200_iter_40.model'",
     "output_type": "error",
     "traceback": [
      "\u001b[0;31m---------------------------------------------------------------------------\u001b[0m",
      "\u001b[0;31mFileNotFoundError\u001b[0m                         Traceback (most recent call last)",
      "\u001b[0;32m<ipython-input-4-39f7fc848d77>\u001b[0m in \u001b[0;36m<module>\u001b[0;34m\u001b[0m\n\u001b[1;32m      3\u001b[0m \u001b[0;34m\u001b[0m\u001b[0m\n\u001b[1;32m      4\u001b[0m \u001b[0mMODELPATH\u001b[0m \u001b[0;34m=\u001b[0m \u001b[0;34m\"/Users/diyahirc/Documents/BCM/trained_embeddings/alldata/gene2vec_dim_v2_200_iter_40.model\"\u001b[0m\u001b[0;34m\u001b[0m\u001b[0;34m\u001b[0m\u001b[0m\n\u001b[0;32m----> 5\u001b[0;31m \u001b[0mgeneModel\u001b[0m \u001b[0;34m=\u001b[0m \u001b[0mKeyedVectors\u001b[0m\u001b[0;34m.\u001b[0m\u001b[0mload\u001b[0m\u001b[0;34m(\u001b[0m\u001b[0mMODELPATH\u001b[0m\u001b[0;34m)\u001b[0m\u001b[0;34m\u001b[0m\u001b[0;34m\u001b[0m\u001b[0m\n\u001b[0m\u001b[1;32m      6\u001b[0m \u001b[0;34m\u001b[0m\u001b[0m\n\u001b[1;32m      7\u001b[0m \u001b[0;31m# MODELPATH = \"/Users/diyahirc/Documents/BCM/gen2vec/Gene2vec/pre_trained_emb/gene2vec_dim_200_iter_9_w2v.txt\"\u001b[0m\u001b[0;34m\u001b[0m\u001b[0;34m\u001b[0m\u001b[0;34m\u001b[0m\u001b[0m\n",
      "\u001b[0;32m/opt/anaconda3/lib/python3.8/site-packages/gensim/models/keyedvectors.py\u001b[0m in \u001b[0;36mload\u001b[0;34m(cls, fname_or_handle, **kwargs)\u001b[0m\n\u001b[1;32m   1551\u001b[0m     \u001b[0;34m@\u001b[0m\u001b[0mclassmethod\u001b[0m\u001b[0;34m\u001b[0m\u001b[0;34m\u001b[0m\u001b[0m\n\u001b[1;32m   1552\u001b[0m     \u001b[0;32mdef\u001b[0m \u001b[0mload\u001b[0m\u001b[0;34m(\u001b[0m\u001b[0mcls\u001b[0m\u001b[0;34m,\u001b[0m \u001b[0mfname_or_handle\u001b[0m\u001b[0;34m,\u001b[0m \u001b[0;34m**\u001b[0m\u001b[0mkwargs\u001b[0m\u001b[0;34m)\u001b[0m\u001b[0;34m:\u001b[0m\u001b[0;34m\u001b[0m\u001b[0;34m\u001b[0m\u001b[0m\n\u001b[0;32m-> 1553\u001b[0;31m         \u001b[0mmodel\u001b[0m \u001b[0;34m=\u001b[0m \u001b[0msuper\u001b[0m\u001b[0;34m(\u001b[0m\u001b[0mWordEmbeddingsKeyedVectors\u001b[0m\u001b[0;34m,\u001b[0m \u001b[0mcls\u001b[0m\u001b[0;34m)\u001b[0m\u001b[0;34m.\u001b[0m\u001b[0mload\u001b[0m\u001b[0;34m(\u001b[0m\u001b[0mfname_or_handle\u001b[0m\u001b[0;34m,\u001b[0m \u001b[0;34m**\u001b[0m\u001b[0mkwargs\u001b[0m\u001b[0;34m)\u001b[0m\u001b[0;34m\u001b[0m\u001b[0;34m\u001b[0m\u001b[0m\n\u001b[0m\u001b[1;32m   1554\u001b[0m         \u001b[0;32mif\u001b[0m \u001b[0misinstance\u001b[0m\u001b[0;34m(\u001b[0m\u001b[0mmodel\u001b[0m\u001b[0;34m,\u001b[0m \u001b[0mFastTextKeyedVectors\u001b[0m\u001b[0;34m)\u001b[0m\u001b[0;34m:\u001b[0m\u001b[0;34m\u001b[0m\u001b[0;34m\u001b[0m\u001b[0m\n\u001b[1;32m   1555\u001b[0m             \u001b[0;32mif\u001b[0m \u001b[0;32mnot\u001b[0m \u001b[0mhasattr\u001b[0m\u001b[0;34m(\u001b[0m\u001b[0mmodel\u001b[0m\u001b[0;34m,\u001b[0m \u001b[0;34m'compatible_hash'\u001b[0m\u001b[0;34m)\u001b[0m\u001b[0;34m:\u001b[0m\u001b[0;34m\u001b[0m\u001b[0;34m\u001b[0m\u001b[0m\n",
      "\u001b[0;32m/opt/anaconda3/lib/python3.8/site-packages/gensim/models/keyedvectors.py\u001b[0m in \u001b[0;36mload\u001b[0;34m(cls, fname_or_handle, **kwargs)\u001b[0m\n\u001b[1;32m    226\u001b[0m     \u001b[0;34m@\u001b[0m\u001b[0mclassmethod\u001b[0m\u001b[0;34m\u001b[0m\u001b[0;34m\u001b[0m\u001b[0m\n\u001b[1;32m    227\u001b[0m     \u001b[0;32mdef\u001b[0m \u001b[0mload\u001b[0m\u001b[0;34m(\u001b[0m\u001b[0mcls\u001b[0m\u001b[0;34m,\u001b[0m \u001b[0mfname_or_handle\u001b[0m\u001b[0;34m,\u001b[0m \u001b[0;34m**\u001b[0m\u001b[0mkwargs\u001b[0m\u001b[0;34m)\u001b[0m\u001b[0;34m:\u001b[0m\u001b[0;34m\u001b[0m\u001b[0;34m\u001b[0m\u001b[0m\n\u001b[0;32m--> 228\u001b[0;31m         \u001b[0;32mreturn\u001b[0m \u001b[0msuper\u001b[0m\u001b[0;34m(\u001b[0m\u001b[0mBaseKeyedVectors\u001b[0m\u001b[0;34m,\u001b[0m \u001b[0mcls\u001b[0m\u001b[0;34m)\u001b[0m\u001b[0;34m.\u001b[0m\u001b[0mload\u001b[0m\u001b[0;34m(\u001b[0m\u001b[0mfname_or_handle\u001b[0m\u001b[0;34m,\u001b[0m \u001b[0;34m**\u001b[0m\u001b[0mkwargs\u001b[0m\u001b[0;34m)\u001b[0m\u001b[0;34m\u001b[0m\u001b[0;34m\u001b[0m\u001b[0m\n\u001b[0m\u001b[1;32m    229\u001b[0m \u001b[0;34m\u001b[0m\u001b[0m\n\u001b[1;32m    230\u001b[0m     \u001b[0;32mdef\u001b[0m \u001b[0msimilarity\u001b[0m\u001b[0;34m(\u001b[0m\u001b[0mself\u001b[0m\u001b[0;34m,\u001b[0m \u001b[0mentity1\u001b[0m\u001b[0;34m,\u001b[0m \u001b[0mentity2\u001b[0m\u001b[0;34m)\u001b[0m\u001b[0;34m:\u001b[0m\u001b[0;34m\u001b[0m\u001b[0;34m\u001b[0m\u001b[0m\n",
      "\u001b[0;32m/opt/anaconda3/lib/python3.8/site-packages/gensim/utils.py\u001b[0m in \u001b[0;36mload\u001b[0;34m(cls, fname, mmap)\u001b[0m\n\u001b[1;32m    433\u001b[0m         \u001b[0mcompress\u001b[0m\u001b[0;34m,\u001b[0m \u001b[0msubname\u001b[0m \u001b[0;34m=\u001b[0m \u001b[0mSaveLoad\u001b[0m\u001b[0;34m.\u001b[0m\u001b[0m_adapt_by_suffix\u001b[0m\u001b[0;34m(\u001b[0m\u001b[0mfname\u001b[0m\u001b[0;34m)\u001b[0m\u001b[0;34m\u001b[0m\u001b[0;34m\u001b[0m\u001b[0m\n\u001b[1;32m    434\u001b[0m \u001b[0;34m\u001b[0m\u001b[0m\n\u001b[0;32m--> 435\u001b[0;31m         \u001b[0mobj\u001b[0m \u001b[0;34m=\u001b[0m \u001b[0munpickle\u001b[0m\u001b[0;34m(\u001b[0m\u001b[0mfname\u001b[0m\u001b[0;34m)\u001b[0m\u001b[0;34m\u001b[0m\u001b[0;34m\u001b[0m\u001b[0m\n\u001b[0m\u001b[1;32m    436\u001b[0m         \u001b[0mobj\u001b[0m\u001b[0;34m.\u001b[0m\u001b[0m_load_specials\u001b[0m\u001b[0;34m(\u001b[0m\u001b[0mfname\u001b[0m\u001b[0;34m,\u001b[0m \u001b[0mmmap\u001b[0m\u001b[0;34m,\u001b[0m \u001b[0mcompress\u001b[0m\u001b[0;34m,\u001b[0m \u001b[0msubname\u001b[0m\u001b[0;34m)\u001b[0m\u001b[0;34m\u001b[0m\u001b[0;34m\u001b[0m\u001b[0m\n\u001b[1;32m    437\u001b[0m         \u001b[0mlogger\u001b[0m\u001b[0;34m.\u001b[0m\u001b[0minfo\u001b[0m\u001b[0;34m(\u001b[0m\u001b[0;34m\"loaded %s\"\u001b[0m\u001b[0;34m,\u001b[0m \u001b[0mfname\u001b[0m\u001b[0;34m)\u001b[0m\u001b[0;34m\u001b[0m\u001b[0;34m\u001b[0m\u001b[0m\n",
      "\u001b[0;32m/opt/anaconda3/lib/python3.8/site-packages/gensim/utils.py\u001b[0m in \u001b[0;36munpickle\u001b[0;34m(fname)\u001b[0m\n\u001b[1;32m   1393\u001b[0m \u001b[0;34m\u001b[0m\u001b[0m\n\u001b[1;32m   1394\u001b[0m     \"\"\"\n\u001b[0;32m-> 1395\u001b[0;31m     \u001b[0;32mwith\u001b[0m \u001b[0mopen\u001b[0m\u001b[0;34m(\u001b[0m\u001b[0mfname\u001b[0m\u001b[0;34m,\u001b[0m \u001b[0;34m'rb'\u001b[0m\u001b[0;34m)\u001b[0m \u001b[0;32mas\u001b[0m \u001b[0mf\u001b[0m\u001b[0;34m:\u001b[0m\u001b[0;34m\u001b[0m\u001b[0;34m\u001b[0m\u001b[0m\n\u001b[0m\u001b[1;32m   1396\u001b[0m         \u001b[0;31m# Because of loading from S3 load can't be used (missing readline in smart_open)\u001b[0m\u001b[0;34m\u001b[0m\u001b[0;34m\u001b[0m\u001b[0;34m\u001b[0m\u001b[0m\n\u001b[1;32m   1397\u001b[0m         \u001b[0;32mif\u001b[0m \u001b[0msys\u001b[0m\u001b[0;34m.\u001b[0m\u001b[0mversion_info\u001b[0m \u001b[0;34m>\u001b[0m \u001b[0;34m(\u001b[0m\u001b[0;36m3\u001b[0m\u001b[0;34m,\u001b[0m \u001b[0;36m0\u001b[0m\u001b[0;34m)\u001b[0m\u001b[0;34m:\u001b[0m\u001b[0;34m\u001b[0m\u001b[0;34m\u001b[0m\u001b[0m\n",
      "\u001b[0;32m/opt/anaconda3/lib/python3.8/site-packages/smart_open/smart_open_lib.py\u001b[0m in \u001b[0;36mopen\u001b[0;34m(uri, mode, buffering, encoding, errors, newline, closefd, opener, ignore_ext, transport_params)\u001b[0m\n\u001b[1;32m    178\u001b[0m         \u001b[0mtransport_params\u001b[0m \u001b[0;34m=\u001b[0m \u001b[0;34m{\u001b[0m\u001b[0;34m}\u001b[0m\u001b[0;34m\u001b[0m\u001b[0;34m\u001b[0m\u001b[0m\n\u001b[1;32m    179\u001b[0m \u001b[0;34m\u001b[0m\u001b[0m\n\u001b[0;32m--> 180\u001b[0;31m     fobj = _shortcut_open(\n\u001b[0m\u001b[1;32m    181\u001b[0m         \u001b[0muri\u001b[0m\u001b[0;34m,\u001b[0m\u001b[0;34m\u001b[0m\u001b[0;34m\u001b[0m\u001b[0m\n\u001b[1;32m    182\u001b[0m         \u001b[0mmode\u001b[0m\u001b[0;34m,\u001b[0m\u001b[0;34m\u001b[0m\u001b[0;34m\u001b[0m\u001b[0m\n",
      "\u001b[0;32m/opt/anaconda3/lib/python3.8/site-packages/smart_open/smart_open_lib.py\u001b[0m in \u001b[0;36m_shortcut_open\u001b[0;34m(uri, mode, ignore_ext, buffering, encoding, errors, newline)\u001b[0m\n\u001b[1;32m    285\u001b[0m         \u001b[0mopen_kwargs\u001b[0m\u001b[0;34m[\u001b[0m\u001b[0;34m'errors'\u001b[0m\u001b[0;34m]\u001b[0m \u001b[0;34m=\u001b[0m \u001b[0merrors\u001b[0m\u001b[0;34m\u001b[0m\u001b[0;34m\u001b[0m\u001b[0m\n\u001b[1;32m    286\u001b[0m \u001b[0;34m\u001b[0m\u001b[0m\n\u001b[0;32m--> 287\u001b[0;31m     \u001b[0;32mreturn\u001b[0m \u001b[0m_builtin_open\u001b[0m\u001b[0;34m(\u001b[0m\u001b[0mlocal_path\u001b[0m\u001b[0;34m,\u001b[0m \u001b[0mmode\u001b[0m\u001b[0;34m,\u001b[0m \u001b[0mbuffering\u001b[0m\u001b[0;34m=\u001b[0m\u001b[0mbuffering\u001b[0m\u001b[0;34m,\u001b[0m \u001b[0;34m**\u001b[0m\u001b[0mopen_kwargs\u001b[0m\u001b[0;34m)\u001b[0m\u001b[0;34m\u001b[0m\u001b[0;34m\u001b[0m\u001b[0m\n\u001b[0m\u001b[1;32m    288\u001b[0m \u001b[0;34m\u001b[0m\u001b[0m\n\u001b[1;32m    289\u001b[0m \u001b[0;34m\u001b[0m\u001b[0m\n",
      "\u001b[0;31mFileNotFoundError\u001b[0m: [Errno 2] No such file or directory: '/Users/diyahirc/Documents/BCM/trained_embeddings/alldata/gene2vec_dim_v2_200_iter_40.model'"
     ]
    }
   ],
   "source": [
    "import re\n",
    "from gensim.models import KeyedVectors\n",
    "\n",
    "MODELPATH = \"/Users/diyahirc/Documents/BCM/trained_embeddings/alldata/gene2vec_dim_v2_200_iter_40.model\"\n",
    "geneModel = KeyedVectors.load(MODELPATH)\n",
    "\n",
    "# MODELPATH = \"/Users/diyahirc/Documents/BCM/gen2vec/Gene2vec/pre_trained_emb/gene2vec_dim_200_iter_9_w2v.txt\"\n",
    "# geneModel = gensim.models.KeyedVectors.load_word2vec_format(MODELPATH)\n",
    "\n",
    "# wv = KeyedVectors.load(\"word2vec.wordvectors\", mmap='r')\n"
   ]
  },
  {
   "cell_type": "code",
   "execution_count": 5,
   "metadata": {},
   "outputs": [
    {
     "name": "stdout",
     "output_type": "stream",
     "text": [
      "11898\n"
     ]
    }
   ],
   "source": [
    "commonGenes = []\n",
    "for gene in geneMapping.keys():\n",
    "    if gene in geneModel.wv.vocab:\n",
    "        location = geneMapping[gene]\n",
    "        tempLoc = re.findall(r'\\d+', location)  \n",
    "        if len(tempLoc) > 0:\n",
    "            if int(tempLoc[0])<23:\n",
    "                commonGenes.append([gene,int(tempLoc[0])])\n",
    "print(len(commonGenes))"
   ]
  },
  {
   "cell_type": "code",
   "execution_count": 6,
   "metadata": {},
   "outputs": [
    {
     "data": {
      "image/png": "[encoded data removed]",
      "text/plain": [
       "<Figure size 720x360 with 1 Axes>"
      ]
     },
     "metadata": {
      "needs_background": "light"
     },
     "output_type": "display_data"
    }
   ],
   "source": [
    "freq = np.zeros(23)\n",
    "for gene in commonGenes:\n",
    "    freq[gene[1]] +=1\n",
    "\n",
    "plt.figure(figsize=(10,5))\n",
    "plt.bar(range(23),freq)\n",
    "plt.title('Frequency of Embedded Genes by Chromosome')\n",
    "plt.xlabel('Chromosome')\n",
    "plt.ylabel('Number of Embedded Genes')\n",
    "plt.show()"
   ]
  },
  {
   "cell_type": "code",
   "execution_count": 7,
   "metadata": {},
   "outputs": [
    {
     "name": "stdout",
     "output_type": "stream",
     "text": [
      "(11898, 200)\n",
      "(11898, 22)\n"
     ]
    }
   ],
   "source": [
    "X = []\n",
    "Y = []\n",
    "\n",
    "for gene,chromosome in commonGenes:\n",
    "    X.append(geneModel.wv[gene])\n",
    "    tempCat = np.zeros(22)\n",
    "    tempCat[chromosome-1] = 1\n",
    "    Y.append(tempCat)\n",
    "\n",
    "X_total = np.array(X)\n",
    "Y_total = np.array(Y)\n",
    "\n",
    "print(X_total.shape)\n",
    "print(Y_total.shape)"
   ]
  },
  {
   "cell_type": "code",
   "execution_count": 8,
   "metadata": {},
   "outputs": [
    {
     "name": "stdout",
     "output_type": "stream",
     "text": [
      "[1274.  816.  689.  500.  537.  635.  526.  436.  451.  469.  845.  673.\n",
      "  243.  387.  370.  506.  742.  171.  734.  333.  150.  411.]\n"
     ]
    }
   ],
   "source": [
    "print(np.sum(Y_total,axis=0))"
   ]
  },
  {
   "cell_type": "code",
   "execution_count": 9,
   "metadata": {},
   "outputs": [],
   "source": [
    "from sklearn.model_selection import train_test_split\n",
    "X_train, X_test, y_train, y_test = train_test_split(X_total, Y_total, test_size=0.2, random_state=42)"
   ]
  },
  {
   "cell_type": "code",
   "execution_count": 10,
   "metadata": {
    "scrolled": true
   },
   "outputs": [
    {
     "name": "stdout",
     "output_type": "stream",
     "text": [
      "Epoch 1/150\n",
      "86/86 [==============================] - 0s 2ms/step - loss: 3.0579 - accuracy: 0.0604 - val_loss: 3.0056 - val_accuracy: 0.0725\n",
      "Epoch 2/150\n",
      "86/86 [==============================] - 0s 1ms/step - loss: 3.0048 - accuracy: 0.0813 - val_loss: 2.9903 - val_accuracy: 0.0987\n",
      "Epoch 3/150\n",
      "86/86 [==============================] - 0s 993us/step - loss: 2.9825 - accuracy: 0.1062 - val_loss: 2.9875 - val_accuracy: 0.1082\n",
      "Epoch 4/150\n",
      "86/86 [==============================] - 0s 1ms/step - loss: 2.9664 - accuracy: 0.1059 - val_loss: 2.9910 - val_accuracy: 0.1113\n",
      "Epoch 5/150\n",
      "86/86 [==============================] - 0s 934us/step - loss: 2.9530 - accuracy: 0.1051 - val_loss: 2.9934 - val_accuracy: 0.1113\n",
      "Epoch 6/150\n",
      "86/86 [==============================] - 0s 996us/step - loss: 2.9383 - accuracy: 0.1058 - val_loss: 2.9951 - val_accuracy: 0.1113\n",
      "Epoch 7/150\n",
      "86/86 [==============================] - 0s 988us/step - loss: 2.9243 - accuracy: 0.1058 - val_loss: 2.9999 - val_accuracy: 0.1103\n",
      "Epoch 8/150\n",
      "86/86 [==============================] - 0s 1ms/step - loss: 2.9088 - accuracy: 0.1080 - val_loss: 3.0027 - val_accuracy: 0.1061\n",
      "Epoch 9/150\n",
      "86/86 [==============================] - 0s 939us/step - loss: 2.8924 - accuracy: 0.1138 - val_loss: 3.0057 - val_accuracy: 0.1071\n",
      "Epoch 10/150\n",
      "86/86 [==============================] - 0s 934us/step - loss: 2.8743 - accuracy: 0.1185 - val_loss: 3.0185 - val_accuracy: 0.0987\n",
      "Epoch 11/150\n",
      "86/86 [==============================] - 0s 910us/step - loss: 2.8534 - accuracy: 0.1221 - val_loss: 3.0302 - val_accuracy: 0.0966\n",
      "Epoch 12/150\n",
      "86/86 [==============================] - 0s 993us/step - loss: 2.8353 - accuracy: 0.1234 - val_loss: 3.0348 - val_accuracy: 0.0998\n",
      "Epoch 13/150\n",
      "86/86 [==============================] - 0s 1ms/step - loss: 2.8142 - accuracy: 0.1285 - val_loss: 3.0488 - val_accuracy: 0.1019\n",
      "Epoch 14/150\n",
      "86/86 [==============================] - 0s 1ms/step - loss: 2.7952 - accuracy: 0.1380 - val_loss: 3.0592 - val_accuracy: 0.0977\n",
      "Epoch 15/150\n",
      "86/86 [==============================] - 0s 1ms/step - loss: 2.7763 - accuracy: 0.1417 - val_loss: 3.0802 - val_accuracy: 0.0966\n",
      "Epoch 16/150\n",
      "86/86 [==============================] - 0s 941us/step - loss: 2.7596 - accuracy: 0.1462 - val_loss: 3.0868 - val_accuracy: 0.0956\n",
      "Epoch 17/150\n",
      "86/86 [==============================] - 0s 941us/step - loss: 2.7424 - accuracy: 0.1551 - val_loss: 3.1101 - val_accuracy: 0.0893\n",
      "Epoch 18/150\n",
      "86/86 [==============================] - 0s 997us/step - loss: 2.7267 - accuracy: 0.1578 - val_loss: 3.1348 - val_accuracy: 0.0893\n",
      "Epoch 19/150\n",
      "86/86 [==============================] - 0s 1ms/step - loss: 2.7102 - accuracy: 0.1631 - val_loss: 3.1427 - val_accuracy: 0.0903\n",
      "Epoch 20/150\n",
      "86/86 [==============================] - 0s 939us/step - loss: 2.6977 - accuracy: 0.1701 - val_loss: 3.1475 - val_accuracy: 0.0956\n",
      "Epoch 21/150\n",
      "86/86 [==============================] - 0s 960us/step - loss: 2.6817 - accuracy: 0.1695 - val_loss: 3.1698 - val_accuracy: 0.0914\n",
      "Epoch 22/150\n",
      "86/86 [==============================] - 0s 919us/step - loss: 2.6695 - accuracy: 0.1778 - val_loss: 3.2009 - val_accuracy: 0.0788\n",
      "Epoch 23/150\n",
      "86/86 [==============================] - 0s 918us/step - loss: 2.6568 - accuracy: 0.1816 - val_loss: 3.2022 - val_accuracy: 0.0956\n",
      "Epoch 24/150\n",
      "86/86 [==============================] - 0s 1ms/step - loss: 2.6443 - accuracy: 0.1839 - val_loss: 3.2200 - val_accuracy: 0.0893\n",
      "Epoch 25/150\n",
      "86/86 [==============================] - 0s 1ms/step - loss: 2.6320 - accuracy: 0.1884 - val_loss: 3.2414 - val_accuracy: 0.0914\n",
      "Epoch 26/150\n",
      "86/86 [==============================] - 0s 942us/step - loss: 2.6220 - accuracy: 0.1923 - val_loss: 3.2575 - val_accuracy: 0.0861\n",
      "Epoch 27/150\n",
      "86/86 [==============================] - 0s 929us/step - loss: 2.6112 - accuracy: 0.1947 - val_loss: 3.2688 - val_accuracy: 0.0851\n",
      "Epoch 28/150\n",
      "86/86 [==============================] - 0s 919us/step - loss: 2.6000 - accuracy: 0.1997 - val_loss: 3.2829 - val_accuracy: 0.0924\n",
      "Epoch 29/150\n",
      "86/86 [==============================] - 0s 923us/step - loss: 2.5915 - accuracy: 0.2006 - val_loss: 3.3009 - val_accuracy: 0.0903\n",
      "Epoch 30/150\n",
      "86/86 [==============================] - 0s 937us/step - loss: 2.5818 - accuracy: 0.2038 - val_loss: 3.3128 - val_accuracy: 0.0945\n",
      "Epoch 31/150\n",
      "86/86 [==============================] - 0s 935us/step - loss: 2.5734 - accuracy: 0.2098 - val_loss: 3.3267 - val_accuracy: 0.0966\n",
      "Epoch 32/150\n",
      "86/86 [==============================] - 0s 931us/step - loss: 2.5617 - accuracy: 0.2140 - val_loss: 3.3448 - val_accuracy: 0.0893\n",
      "Epoch 33/150\n",
      "86/86 [==============================] - 0s 942us/step - loss: 2.5529 - accuracy: 0.2146 - val_loss: 3.3564 - val_accuracy: 0.0882\n",
      "Epoch 34/150\n",
      "86/86 [==============================] - 0s 931us/step - loss: 2.5460 - accuracy: 0.2177 - val_loss: 3.3845 - val_accuracy: 0.0851\n",
      "Epoch 35/150\n",
      "86/86 [==============================] - 0s 954us/step - loss: 2.5388 - accuracy: 0.2210 - val_loss: 3.3972 - val_accuracy: 0.0872\n",
      "Epoch 36/150\n",
      "86/86 [==============================] - 0s 938us/step - loss: 2.5284 - accuracy: 0.2244 - val_loss: 3.4207 - val_accuracy: 0.0903\n",
      "Epoch 37/150\n",
      "86/86 [==============================] - 0s 940us/step - loss: 2.5215 - accuracy: 0.2287 - val_loss: 3.4274 - val_accuracy: 0.0914\n",
      "Epoch 38/150\n",
      "86/86 [==============================] - 0s 946us/step - loss: 2.5142 - accuracy: 0.2286 - val_loss: 3.4561 - val_accuracy: 0.0830\n",
      "Epoch 39/150\n",
      "86/86 [==============================] - 0s 963us/step - loss: 2.5073 - accuracy: 0.2290 - val_loss: 3.4676 - val_accuracy: 0.0840\n",
      "Epoch 40/150\n",
      "86/86 [==============================] - 0s 961us/step - loss: 2.4994 - accuracy: 0.2324 - val_loss: 3.4882 - val_accuracy: 0.0851\n",
      "Epoch 41/150\n",
      "86/86 [==============================] - 0s 925us/step - loss: 2.4930 - accuracy: 0.2316 - val_loss: 3.4875 - val_accuracy: 0.0872\n",
      "Epoch 42/150\n",
      "86/86 [==============================] - 0s 942us/step - loss: 2.4845 - accuracy: 0.2372 - val_loss: 3.4939 - val_accuracy: 0.0872\n",
      "Epoch 43/150\n",
      "86/86 [==============================] - 0s 928us/step - loss: 2.4790 - accuracy: 0.2370 - val_loss: 3.5095 - val_accuracy: 0.0851\n",
      "Epoch 44/150\n",
      "86/86 [==============================] - 0s 946us/step - loss: 2.4726 - accuracy: 0.2408 - val_loss: 3.5367 - val_accuracy: 0.0861\n",
      "Epoch 45/150\n",
      "86/86 [==============================] - 0s 981us/step - loss: 2.4670 - accuracy: 0.2438 - val_loss: 3.5483 - val_accuracy: 0.0840\n",
      "Epoch 46/150\n",
      "86/86 [==============================] - 0s 2ms/step - loss: 2.4593 - accuracy: 0.2441 - val_loss: 3.5618 - val_accuracy: 0.0893\n",
      "Epoch 47/150\n",
      "86/86 [==============================] - 0s 969us/step - loss: 2.4535 - accuracy: 0.2494 - val_loss: 3.5812 - val_accuracy: 0.0840\n",
      "Epoch 48/150\n",
      "86/86 [==============================] - 0s 950us/step - loss: 2.4482 - accuracy: 0.2508 - val_loss: 3.5951 - val_accuracy: 0.0830\n",
      "Epoch 49/150\n",
      "86/86 [==============================] - 0s 978us/step - loss: 2.4411 - accuracy: 0.2533 - val_loss: 3.5885 - val_accuracy: 0.0819\n",
      "Epoch 50/150\n",
      "86/86 [==============================] - 0s 931us/step - loss: 2.4360 - accuracy: 0.2565 - val_loss: 3.6050 - val_accuracy: 0.0840\n",
      "Epoch 51/150\n",
      "86/86 [==============================] - 0s 926us/step - loss: 2.4297 - accuracy: 0.2576 - val_loss: 3.6238 - val_accuracy: 0.0882\n",
      "Epoch 52/150\n",
      "86/86 [==============================] - 0s 918us/step - loss: 2.4252 - accuracy: 0.2560 - val_loss: 3.6436 - val_accuracy: 0.0893\n",
      "Epoch 53/150\n",
      "86/86 [==============================] - 0s 943us/step - loss: 2.4187 - accuracy: 0.2609 - val_loss: 3.6561 - val_accuracy: 0.0872\n",
      "Epoch 54/150\n",
      "86/86 [==============================] - 0s 940us/step - loss: 2.4121 - accuracy: 0.2644 - val_loss: 3.6639 - val_accuracy: 0.0819\n",
      "Epoch 55/150\n",
      "86/86 [==============================] - 0s 946us/step - loss: 2.4084 - accuracy: 0.2633 - val_loss: 3.6945 - val_accuracy: 0.0861\n",
      "Epoch 56/150\n",
      "86/86 [==============================] - 0s 943us/step - loss: 2.4032 - accuracy: 0.2670 - val_loss: 3.6773 - val_accuracy: 0.0851\n",
      "Epoch 57/150\n",
      "86/86 [==============================] - 0s 956us/step - loss: 2.3993 - accuracy: 0.2659 - val_loss: 3.6874 - val_accuracy: 0.0882\n",
      "Epoch 58/150\n",
      "86/86 [==============================] - 0s 1ms/step - loss: 2.3921 - accuracy: 0.2684 - val_loss: 3.7050 - val_accuracy: 0.0851\n",
      "Epoch 59/150\n",
      "86/86 [==============================] - 0s 1ms/step - loss: 2.3885 - accuracy: 0.2714 - val_loss: 3.7422 - val_accuracy: 0.0893\n",
      "Epoch 60/150\n",
      "86/86 [==============================] - 0s 994us/step - loss: 2.3827 - accuracy: 0.2704 - val_loss: 3.7354 - val_accuracy: 0.0798\n",
      "Epoch 61/150\n",
      "86/86 [==============================] - 0s 971us/step - loss: 2.3750 - accuracy: 0.2728 - val_loss: 3.7702 - val_accuracy: 0.0788\n",
      "Epoch 62/150\n",
      "86/86 [==============================] - 0s 956us/step - loss: 2.3749 - accuracy: 0.2729 - val_loss: 3.7632 - val_accuracy: 0.0830\n",
      "Epoch 63/150\n",
      "86/86 [==============================] - 0s 980us/step - loss: 2.3660 - accuracy: 0.2771 - val_loss: 3.7896 - val_accuracy: 0.0893\n",
      "Epoch 64/150\n",
      "86/86 [==============================] - 0s 963us/step - loss: 2.3624 - accuracy: 0.2824 - val_loss: 3.8064 - val_accuracy: 0.0788\n",
      "Epoch 65/150\n",
      "86/86 [==============================] - 0s 945us/step - loss: 2.3590 - accuracy: 0.2798 - val_loss: 3.8106 - val_accuracy: 0.0861\n",
      "Epoch 66/150\n",
      "86/86 [==============================] - 0s 960us/step - loss: 2.3545 - accuracy: 0.2802 - val_loss: 3.8220 - val_accuracy: 0.0830\n",
      "Epoch 67/150\n",
      "86/86 [==============================] - 0s 976us/step - loss: 2.3480 - accuracy: 0.2853 - val_loss: 3.8410 - val_accuracy: 0.0893\n",
      "Epoch 68/150\n",
      "86/86 [==============================] - 0s 948us/step - loss: 2.3446 - accuracy: 0.2837 - val_loss: 3.8504 - val_accuracy: 0.0798\n",
      "Epoch 69/150\n",
      "86/86 [==============================] - 0s 952us/step - loss: 2.3398 - accuracy: 0.2850 - val_loss: 3.8561 - val_accuracy: 0.0798\n",
      "Epoch 70/150\n",
      "86/86 [==============================] - 0s 959us/step - loss: 2.3346 - accuracy: 0.2851 - val_loss: 3.8619 - val_accuracy: 0.0798\n",
      "Epoch 71/150\n",
      "86/86 [==============================] - 0s 965us/step - loss: 2.3310 - accuracy: 0.2857 - val_loss: 3.8882 - val_accuracy: 0.0788\n",
      "Epoch 72/150\n",
      "86/86 [==============================] - 0s 1ms/step - loss: 2.3284 - accuracy: 0.2880 - val_loss: 3.9036 - val_accuracy: 0.0777\n",
      "Epoch 73/150\n",
      "86/86 [==============================] - 0s 1ms/step - loss: 2.3244 - accuracy: 0.2935 - val_loss: 3.9083 - val_accuracy: 0.0777\n",
      "Epoch 74/150\n",
      "86/86 [==============================] - 0s 967us/step - loss: 2.3176 - accuracy: 0.2900 - val_loss: 3.9192 - val_accuracy: 0.0777\n",
      "Epoch 75/150\n",
      "86/86 [==============================] - 0s 965us/step - loss: 2.3175 - accuracy: 0.2880 - val_loss: 3.9161 - val_accuracy: 0.0809\n",
      "Epoch 76/150\n",
      "86/86 [==============================] - 0s 995us/step - loss: 2.3108 - accuracy: 0.2926 - val_loss: 3.9097 - val_accuracy: 0.0830\n",
      "Epoch 77/150\n",
      "86/86 [==============================] - 0s 970us/step - loss: 2.3065 - accuracy: 0.2945 - val_loss: 3.9596 - val_accuracy: 0.0809\n",
      "Epoch 78/150\n",
      "86/86 [==============================] - 0s 949us/step - loss: 2.3048 - accuracy: 0.2905 - val_loss: 3.9595 - val_accuracy: 0.0767\n",
      "Epoch 79/150\n",
      "86/86 [==============================] - 0s 972us/step - loss: 2.2995 - accuracy: 0.2950 - val_loss: 3.9762 - val_accuracy: 0.0777\n",
      "Epoch 80/150\n",
      "86/86 [==============================] - 0s 951us/step - loss: 2.2939 - accuracy: 0.2954 - val_loss: 4.0070 - val_accuracy: 0.0725\n",
      "Epoch 81/150\n",
      "86/86 [==============================] - 0s 942us/step - loss: 2.2923 - accuracy: 0.2961 - val_loss: 4.0037 - val_accuracy: 0.0746\n",
      "Epoch 82/150\n",
      "86/86 [==============================] - 0s 971us/step - loss: 2.2892 - accuracy: 0.2978 - val_loss: 4.0243 - val_accuracy: 0.0756\n",
      "Epoch 83/150\n",
      "86/86 [==============================] - 0s 977us/step - loss: 2.2832 - accuracy: 0.3042 - val_loss: 4.0210 - val_accuracy: 0.0777\n",
      "Epoch 84/150\n",
      "86/86 [==============================] - 0s 957us/step - loss: 2.2804 - accuracy: 0.2991 - val_loss: 4.0455 - val_accuracy: 0.0767\n",
      "Epoch 85/150\n",
      "86/86 [==============================] - 0s 991us/step - loss: 2.2778 - accuracy: 0.3026 - val_loss: 4.0355 - val_accuracy: 0.0809\n",
      "Epoch 86/150\n",
      "86/86 [==============================] - 0s 957us/step - loss: 2.2734 - accuracy: 0.3011 - val_loss: 4.0486 - val_accuracy: 0.0756\n",
      "Epoch 87/150\n",
      "86/86 [==============================] - 0s 977us/step - loss: 2.2707 - accuracy: 0.3053 - val_loss: 4.0803 - val_accuracy: 0.0725\n",
      "Epoch 88/150\n",
      "86/86 [==============================] - 0s 985us/step - loss: 2.2644 - accuracy: 0.3049 - val_loss: 4.0642 - val_accuracy: 0.0767\n",
      "Epoch 89/150\n",
      "86/86 [==============================] - 0s 986us/step - loss: 2.2648 - accuracy: 0.3057 - val_loss: 4.0871 - val_accuracy: 0.0788\n",
      "Epoch 90/150\n",
      "86/86 [==============================] - 0s 987us/step - loss: 2.2598 - accuracy: 0.3048 - val_loss: 4.1127 - val_accuracy: 0.0735\n",
      "Epoch 91/150\n",
      "86/86 [==============================] - 0s 974us/step - loss: 2.2584 - accuracy: 0.3060 - val_loss: 4.1129 - val_accuracy: 0.0746\n",
      "Epoch 92/150\n",
      "86/86 [==============================] - 0s 976us/step - loss: 2.2531 - accuracy: 0.3085 - val_loss: 4.1274 - val_accuracy: 0.0704\n",
      "Epoch 93/150\n",
      "86/86 [==============================] - 0s 962us/step - loss: 2.2494 - accuracy: 0.3097 - val_loss: 4.1164 - val_accuracy: 0.0725\n",
      "Epoch 94/150\n",
      "86/86 [==============================] - 0s 987us/step - loss: 2.2468 - accuracy: 0.3130 - val_loss: 4.1293 - val_accuracy: 0.0788\n",
      "Epoch 95/150\n",
      "86/86 [==============================] - 0s 981us/step - loss: 2.2450 - accuracy: 0.3070 - val_loss: 4.1358 - val_accuracy: 0.0704\n",
      "Epoch 96/150\n",
      "86/86 [==============================] - 0s 966us/step - loss: 2.2404 - accuracy: 0.3138 - val_loss: 4.1520 - val_accuracy: 0.0777\n",
      "Epoch 97/150\n",
      "86/86 [==============================] - 0s 974us/step - loss: 2.2392 - accuracy: 0.3098 - val_loss: 4.1566 - val_accuracy: 0.0714\n",
      "Epoch 98/150\n",
      "86/86 [==============================] - 0s 961us/step - loss: 2.2342 - accuracy: 0.3092 - val_loss: 4.1515 - val_accuracy: 0.0725\n",
      "Epoch 99/150\n",
      "86/86 [==============================] - 0s 983us/step - loss: 2.2328 - accuracy: 0.3129 - val_loss: 4.1713 - val_accuracy: 0.0714\n",
      "Epoch 100/150\n",
      "86/86 [==============================] - 0s 970us/step - loss: 2.2280 - accuracy: 0.3133 - val_loss: 4.1918 - val_accuracy: 0.0756\n",
      "Epoch 101/150\n",
      "86/86 [==============================] - 0s 968us/step - loss: 2.2237 - accuracy: 0.3161 - val_loss: 4.1923 - val_accuracy: 0.0756\n",
      "Epoch 102/150\n",
      "86/86 [==============================] - 0s 971us/step - loss: 2.2221 - accuracy: 0.3159 - val_loss: 4.2233 - val_accuracy: 0.0704\n",
      "Epoch 103/150\n",
      "86/86 [==============================] - 0s 988us/step - loss: 2.2196 - accuracy: 0.3205 - val_loss: 4.2275 - val_accuracy: 0.0704\n",
      "Epoch 104/150\n",
      "86/86 [==============================] - 0s 983us/step - loss: 2.2173 - accuracy: 0.3173 - val_loss: 4.2236 - val_accuracy: 0.0767\n",
      "Epoch 105/150\n",
      "86/86 [==============================] - 0s 1ms/step - loss: 2.2131 - accuracy: 0.3195 - val_loss: 4.2314 - val_accuracy: 0.0756\n",
      "Epoch 106/150\n",
      "86/86 [==============================] - 0s 973us/step - loss: 2.2079 - accuracy: 0.3210 - val_loss: 4.2621 - val_accuracy: 0.0735\n",
      "Epoch 107/150\n",
      "86/86 [==============================] - 0s 959us/step - loss: 2.2083 - accuracy: 0.3240 - val_loss: 4.2456 - val_accuracy: 0.0767\n",
      "Epoch 108/150\n",
      "86/86 [==============================] - 0s 943us/step - loss: 2.2067 - accuracy: 0.3178 - val_loss: 4.2691 - val_accuracy: 0.0714\n",
      "Epoch 109/150\n",
      "86/86 [==============================] - 0s 988us/step - loss: 2.2022 - accuracy: 0.3207 - val_loss: 4.2830 - val_accuracy: 0.0725\n",
      "Epoch 110/150\n",
      "86/86 [==============================] - 0s 1ms/step - loss: 2.1991 - accuracy: 0.3216 - val_loss: 4.2806 - val_accuracy: 0.0714\n",
      "Epoch 111/150\n",
      "86/86 [==============================] - 0s 1ms/step - loss: 2.1950 - accuracy: 0.3217 - val_loss: 4.2858 - val_accuracy: 0.0704\n",
      "Epoch 112/150\n",
      "86/86 [==============================] - 0s 911us/step - loss: 2.1935 - accuracy: 0.3226 - val_loss: 4.3240 - val_accuracy: 0.0756\n",
      "Epoch 113/150\n",
      "86/86 [==============================] - 0s 955us/step - loss: 2.1915 - accuracy: 0.3241 - val_loss: 4.3380 - val_accuracy: 0.0704\n",
      "Epoch 114/150\n",
      "86/86 [==============================] - 0s 924us/step - loss: 2.1899 - accuracy: 0.3235 - val_loss: 4.3232 - val_accuracy: 0.0725\n"
     ]
    },
    {
     "name": "stdout",
     "output_type": "stream",
     "text": [
      "Epoch 115/150\n",
      "86/86 [==============================] - 0s 955us/step - loss: 2.1882 - accuracy: 0.3240 - val_loss: 4.3570 - val_accuracy: 0.0651\n",
      "Epoch 116/150\n",
      "86/86 [==============================] - 0s 934us/step - loss: 2.1815 - accuracy: 0.3264 - val_loss: 4.3915 - val_accuracy: 0.0725\n",
      "Epoch 117/150\n",
      "86/86 [==============================] - 0s 928us/step - loss: 2.1819 - accuracy: 0.3292 - val_loss: 4.3687 - val_accuracy: 0.0693\n",
      "Epoch 118/150\n",
      "86/86 [==============================] - 0s 943us/step - loss: 2.1775 - accuracy: 0.3272 - val_loss: 4.3729 - val_accuracy: 0.0704\n",
      "Epoch 119/150\n",
      "86/86 [==============================] - 0s 962us/step - loss: 2.1753 - accuracy: 0.3282 - val_loss: 4.3961 - val_accuracy: 0.0714\n",
      "Epoch 120/150\n",
      "86/86 [==============================] - 0s 921us/step - loss: 2.1715 - accuracy: 0.3258 - val_loss: 4.3977 - val_accuracy: 0.0693\n",
      "Epoch 121/150\n",
      "86/86 [==============================] - 0s 938us/step - loss: 2.1702 - accuracy: 0.3276 - val_loss: 4.4133 - val_accuracy: 0.0746\n",
      "Epoch 122/150\n",
      "86/86 [==============================] - 0s 930us/step - loss: 2.1671 - accuracy: 0.3285 - val_loss: 4.4116 - val_accuracy: 0.0735\n",
      "Epoch 123/150\n",
      "86/86 [==============================] - 0s 910us/step - loss: 2.1655 - accuracy: 0.3278 - val_loss: 4.4310 - val_accuracy: 0.0704\n",
      "Epoch 124/150\n",
      "86/86 [==============================] - 0s 950us/step - loss: 2.1617 - accuracy: 0.3319 - val_loss: 4.4265 - val_accuracy: 0.0714\n",
      "Epoch 125/150\n",
      "86/86 [==============================] - 0s 897us/step - loss: 2.1605 - accuracy: 0.3321 - val_loss: 4.4392 - val_accuracy: 0.0735\n",
      "Epoch 126/150\n",
      "86/86 [==============================] - 0s 916us/step - loss: 2.1567 - accuracy: 0.3350 - val_loss: 4.4632 - val_accuracy: 0.0704\n",
      "Epoch 127/150\n",
      "86/86 [==============================] - 0s 906us/step - loss: 2.1553 - accuracy: 0.3324 - val_loss: 4.4762 - val_accuracy: 0.0672\n",
      "Epoch 128/150\n",
      "86/86 [==============================] - 0s 906us/step - loss: 2.1550 - accuracy: 0.3328 - val_loss: 4.4917 - val_accuracy: 0.0683\n",
      "Epoch 129/150\n",
      "86/86 [==============================] - 0s 922us/step - loss: 2.1514 - accuracy: 0.3340 - val_loss: 4.5016 - val_accuracy: 0.0662\n",
      "Epoch 130/150\n",
      "86/86 [==============================] - 0s 944us/step - loss: 2.1468 - accuracy: 0.3353 - val_loss: 4.4720 - val_accuracy: 0.0704\n",
      "Epoch 131/150\n",
      "86/86 [==============================] - 0s 979us/step - loss: 2.1468 - accuracy: 0.3389 - val_loss: 4.4922 - val_accuracy: 0.0704\n",
      "Epoch 132/150\n",
      "86/86 [==============================] - 0s 941us/step - loss: 2.1440 - accuracy: 0.3356 - val_loss: 4.5255 - val_accuracy: 0.0662\n",
      "Epoch 133/150\n",
      "86/86 [==============================] - 0s 924us/step - loss: 2.1415 - accuracy: 0.3362 - val_loss: 4.5218 - val_accuracy: 0.0683\n",
      "Epoch 134/150\n",
      "86/86 [==============================] - 0s 934us/step - loss: 2.1393 - accuracy: 0.3345 - val_loss: 4.5398 - val_accuracy: 0.0704\n",
      "Epoch 135/150\n",
      "86/86 [==============================] - 0s 956us/step - loss: 2.1354 - accuracy: 0.3413 - val_loss: 4.5409 - val_accuracy: 0.0693\n",
      "Epoch 136/150\n",
      "86/86 [==============================] - 0s 926us/step - loss: 2.1351 - accuracy: 0.3395 - val_loss: 4.5385 - val_accuracy: 0.0704\n",
      "Epoch 137/150\n",
      "86/86 [==============================] - 0s 940us/step - loss: 2.1318 - accuracy: 0.3398 - val_loss: 4.5490 - val_accuracy: 0.0714\n",
      "Epoch 138/150\n",
      "86/86 [==============================] - 0s 926us/step - loss: 2.1278 - accuracy: 0.3376 - val_loss: 4.5534 - val_accuracy: 0.0746\n",
      "Epoch 139/150\n",
      "86/86 [==============================] - 0s 923us/step - loss: 2.1280 - accuracy: 0.3416 - val_loss: 4.5753 - val_accuracy: 0.0683\n",
      "Epoch 140/150\n",
      "86/86 [==============================] - 0s 931us/step - loss: 2.1251 - accuracy: 0.3416 - val_loss: 4.5806 - val_accuracy: 0.0777\n",
      "Epoch 141/150\n",
      "86/86 [==============================] - 0s 954us/step - loss: 2.1230 - accuracy: 0.3403 - val_loss: 4.5900 - val_accuracy: 0.0683\n",
      "Epoch 142/150\n",
      "86/86 [==============================] - 0s 940us/step - loss: 2.1204 - accuracy: 0.3473 - val_loss: 4.6039 - val_accuracy: 0.0662\n",
      "Epoch 143/150\n",
      "86/86 [==============================] - 0s 938us/step - loss: 2.1179 - accuracy: 0.3425 - val_loss: 4.6375 - val_accuracy: 0.0693\n",
      "Epoch 144/150\n",
      "86/86 [==============================] - 0s 941us/step - loss: 2.1185 - accuracy: 0.3454 - val_loss: 4.6313 - val_accuracy: 0.0683\n",
      "Epoch 145/150\n",
      "86/86 [==============================] - 0s 955us/step - loss: 2.1135 - accuracy: 0.3440 - val_loss: 4.6359 - val_accuracy: 0.0756\n",
      "Epoch 146/150\n",
      "86/86 [==============================] - 0s 945us/step - loss: 2.1148 - accuracy: 0.3456 - val_loss: 4.6377 - val_accuracy: 0.0756\n",
      "Epoch 147/150\n",
      "86/86 [==============================] - 0s 935us/step - loss: 2.1094 - accuracy: 0.3453 - val_loss: 4.6466 - val_accuracy: 0.0746\n",
      "Epoch 148/150\n",
      "86/86 [==============================] - 0s 946us/step - loss: 2.1080 - accuracy: 0.3463 - val_loss: 4.6453 - val_accuracy: 0.0777\n",
      "Epoch 149/150\n",
      "86/86 [==============================] - 0s 930us/step - loss: 2.1050 - accuracy: 0.3477 - val_loss: 4.6644 - val_accuracy: 0.0735\n",
      "Epoch 150/150\n",
      "86/86 [==============================] - 0s 928us/step - loss: 2.1017 - accuracy: 0.3461 - val_loss: 4.6510 - val_accuracy: 0.0767\n"
     ]
    },
    {
     "data": {
      "text/plain": [
       "<tensorflow.python.keras.callbacks.History at 0x7f94e2060e20>"
      ]
     },
     "execution_count": 10,
     "metadata": {},
     "output_type": "execute_result"
    }
   ],
   "source": [
    "from keras.models import Sequential\n",
    "from keras.layers import Dense\n",
    "\n",
    "model = Sequential()\n",
    "model.add(Dense(50, input_dim=200, activation='relu'))\n",
    "model.add(Dense(20, activation='relu'))\n",
    "model.add(Dense(22, activation='sigmoid'))\n",
    "# compile the keras model\n",
    "model.compile(loss='categorical_crossentropy', optimizer='adam', metrics=['accuracy'])\n",
    "# fit the keras model on the dataset\n",
    "model.fit(X_train, y_train , epochs=150, batch_size=100, validation_split=0.1)\n",
    "#, callbacks=[EarlyStopping(monitor='val_loss', patience=10)],)"
   ]
  },
  {
   "cell_type": "code",
   "execution_count": 13,
   "metadata": {},
   "outputs": [
    {
     "name": "stdout",
     "output_type": "stream",
     "text": [
      "Confusion matrix, without normalization\n",
      "Normalized confusion matrix\n"
     ]
    },
    {
     "data": {
      "image/png": "[encoded data removed]",
      "text/plain": [
       "<Figure size 432x288 with 2 Axes>"
      ]
     },
     "metadata": {
      "needs_background": "light"
     },
     "output_type": "display_data"
    },
    {
     "data": {
      "image/png": "[encoded data removed]",
      "text/plain": [
       "<Figure size 432x288 with 2 Axes>"
      ]
     },
     "metadata": {
      "needs_background": "light"
     },
     "output_type": "display_data"
    }
   ],
   "source": [
    "from sklearn.metrics import confusion_matrix\n",
    "\n",
    "def plot_confusion_matrix(cm, title='Confusion matrix', cmap=plt.cm.Blues):\n",
    "    plt.imshow(cm, interpolation='nearest', cmap=cmap)\n",
    "    plt.title(title)\n",
    "    plt.colorbar()\n",
    "    plt.tight_layout()\n",
    "    plt.ylabel('True label')\n",
    "    plt.xlabel('Predicted label')\n",
    "\n",
    "y_pred = model.predict(X_test)\n",
    "# y_pred = convert2onehot(clf.predict(X_test))\n",
    "\n",
    "# Compute confusion matrix\n",
    "cm = confusion_matrix(y_test.argmax(axis=1), y_pred.argmax(axis=1))\n",
    "np.set_printoptions(precision=2)\n",
    "print('Confusion matrix, without normalization')\n",
    "plt.figure()\n",
    "plot_confusion_matrix(cm)\n",
    "\n",
    "# Normalize the confusion matrix by row (i.e by the number of samples\n",
    "# in each class)\n",
    "cm_normalized = cm.astype('float') / cm.sum(axis=1)[:, np.newaxis]\n",
    "print('Normalized confusion matrix')\n",
    "plt.figure()\n",
    "plot_confusion_matrix(cm_normalized, title='Normalized confusion matrix')\n",
    "\n",
    "plt.show()"
   ]
  },
  {
   "cell_type": "markdown",
   "metadata": {},
   "source": [
    "## CBOW ~ 12k Genes"
   ]
  },
  {
   "cell_type": "code",
   "execution_count": 14,
   "metadata": {},
   "outputs": [
    {
     "name": "stdout",
     "output_type": "stream",
     "text": [
      "Accuracy:     0.07815126050420168\n",
      "Random Guess: 0.045454545454545456\n"
     ]
    }
   ],
   "source": [
    "accArr = y_test.argmax(axis=1) == y_pred.argmax(axis=1)\n",
    "accuracy = np.sum(accArr)/len(accArr)\n",
    "print('Accuracy:     {accuracy}'.format(accuracy=accuracy))\n",
    "print('Random Guess: {rand}'.format(rand=1/22))"
   ]
  },
  {
   "cell_type": "markdown",
   "metadata": {},
   "source": [
    "## gene2vec ~ 19k Genes"
   ]
  },
  {
   "cell_type": "code",
   "execution_count": 105,
   "metadata": {},
   "outputs": [
    {
     "name": "stdout",
     "output_type": "stream",
     "text": [
      "Accuracy:     0.11105193075898802\n",
      "Random Guess: 0.045454545454545456\n"
     ]
    }
   ],
   "source": [
    "accArr = y_test.argmax(axis=1) == y_pred.argmax(axis=1)\n",
    "accuracy = np.sum(accArr)/len(accArr)\n",
    "print('Accuracy:     {accuracy}'.format(accuracy=accuracy))\n",
    "print('Random Guess: {rand}'.format(rand=1/22))"
   ]
  },
  {
   "cell_type": "code",
   "execution_count": 12,
   "metadata": {},
   "outputs": [
    {
     "name": "stderr",
     "output_type": "stream",
     "text": [
      "/opt/anaconda3/lib/python3.8/site-packages/sklearn/svm/_base.py:246: ConvergenceWarning: Solver terminated early (max_iter=50).  Consider pre-processing your data with StandardScaler or MinMaxScaler.\n",
      "  warnings.warn('Solver terminated early (max_iter=%i).'\n",
      "/opt/anaconda3/lib/python3.8/site-packages/sklearn/svm/_base.py:246: ConvergenceWarning: Solver terminated early (max_iter=50).  Consider pre-processing your data with StandardScaler or MinMaxScaler.\n",
      "  warnings.warn('Solver terminated early (max_iter=%i).'\n",
      "/opt/anaconda3/lib/python3.8/site-packages/sklearn/svm/_base.py:246: ConvergenceWarning: Solver terminated early (max_iter=50).  Consider pre-processing your data with StandardScaler or MinMaxScaler.\n",
      "  warnings.warn('Solver terminated early (max_iter=%i).'\n",
      "/opt/anaconda3/lib/python3.8/site-packages/sklearn/svm/_base.py:246: ConvergenceWarning: Solver terminated early (max_iter=50).  Consider pre-processing your data with StandardScaler or MinMaxScaler.\n",
      "  warnings.warn('Solver terminated early (max_iter=%i).'\n",
      "/opt/anaconda3/lib/python3.8/site-packages/sklearn/svm/_base.py:246: ConvergenceWarning: Solver terminated early (max_iter=50).  Consider pre-processing your data with StandardScaler or MinMaxScaler.\n",
      "  warnings.warn('Solver terminated early (max_iter=%i).'\n",
      "/opt/anaconda3/lib/python3.8/site-packages/sklearn/svm/_base.py:246: ConvergenceWarning: Solver terminated early (max_iter=50).  Consider pre-processing your data with StandardScaler or MinMaxScaler.\n",
      "  warnings.warn('Solver terminated early (max_iter=%i).'\n",
      "/opt/anaconda3/lib/python3.8/site-packages/sklearn/svm/_base.py:246: ConvergenceWarning: Solver terminated early (max_iter=50).  Consider pre-processing your data with StandardScaler or MinMaxScaler.\n",
      "  warnings.warn('Solver terminated early (max_iter=%i).'\n",
      "/opt/anaconda3/lib/python3.8/site-packages/sklearn/svm/_base.py:246: ConvergenceWarning: Solver terminated early (max_iter=50).  Consider pre-processing your data with StandardScaler or MinMaxScaler.\n",
      "  warnings.warn('Solver terminated early (max_iter=%i).'\n",
      "/opt/anaconda3/lib/python3.8/site-packages/sklearn/svm/_base.py:246: ConvergenceWarning: Solver terminated early (max_iter=50).  Consider pre-processing your data with StandardScaler or MinMaxScaler.\n",
      "  warnings.warn('Solver terminated early (max_iter=%i).'\n",
      "/opt/anaconda3/lib/python3.8/site-packages/sklearn/svm/_base.py:246: ConvergenceWarning: Solver terminated early (max_iter=50).  Consider pre-processing your data with StandardScaler or MinMaxScaler.\n",
      "  warnings.warn('Solver terminated early (max_iter=%i).'\n",
      "/opt/anaconda3/lib/python3.8/site-packages/sklearn/svm/_base.py:246: ConvergenceWarning: Solver terminated early (max_iter=50).  Consider pre-processing your data with StandardScaler or MinMaxScaler.\n",
      "  warnings.warn('Solver terminated early (max_iter=%i).'\n",
      "/opt/anaconda3/lib/python3.8/site-packages/sklearn/svm/_base.py:246: ConvergenceWarning: Solver terminated early (max_iter=50).  Consider pre-processing your data with StandardScaler or MinMaxScaler.\n",
      "  warnings.warn('Solver terminated early (max_iter=%i).'\n",
      "/opt/anaconda3/lib/python3.8/site-packages/sklearn/svm/_base.py:246: ConvergenceWarning: Solver terminated early (max_iter=50).  Consider pre-processing your data with StandardScaler or MinMaxScaler.\n",
      "  warnings.warn('Solver terminated early (max_iter=%i).'\n",
      "/opt/anaconda3/lib/python3.8/site-packages/sklearn/svm/_base.py:246: ConvergenceWarning: Solver terminated early (max_iter=50).  Consider pre-processing your data with StandardScaler or MinMaxScaler.\n",
      "  warnings.warn('Solver terminated early (max_iter=%i).'\n",
      "/opt/anaconda3/lib/python3.8/site-packages/sklearn/svm/_base.py:246: ConvergenceWarning: Solver terminated early (max_iter=50).  Consider pre-processing your data with StandardScaler or MinMaxScaler.\n",
      "  warnings.warn('Solver terminated early (max_iter=%i).'\n",
      "/opt/anaconda3/lib/python3.8/site-packages/sklearn/svm/_base.py:246: ConvergenceWarning: Solver terminated early (max_iter=50).  Consider pre-processing your data with StandardScaler or MinMaxScaler.\n",
      "  warnings.warn('Solver terminated early (max_iter=%i).'\n",
      "/opt/anaconda3/lib/python3.8/site-packages/sklearn/svm/_base.py:246: ConvergenceWarning: Solver terminated early (max_iter=50).  Consider pre-processing your data with StandardScaler or MinMaxScaler.\n",
      "  warnings.warn('Solver terminated early (max_iter=%i).'\n",
      "/opt/anaconda3/lib/python3.8/site-packages/sklearn/svm/_base.py:246: ConvergenceWarning: Solver terminated early (max_iter=50).  Consider pre-processing your data with StandardScaler or MinMaxScaler.\n",
      "  warnings.warn('Solver terminated early (max_iter=%i).'\n",
      "/opt/anaconda3/lib/python3.8/site-packages/sklearn/svm/_base.py:246: ConvergenceWarning: Solver terminated early (max_iter=50).  Consider pre-processing your data with StandardScaler or MinMaxScaler.\n",
      "  warnings.warn('Solver terminated early (max_iter=%i).'\n",
      "/opt/anaconda3/lib/python3.8/site-packages/sklearn/svm/_base.py:246: ConvergenceWarning: Solver terminated early (max_iter=50).  Consider pre-processing your data with StandardScaler or MinMaxScaler.\n",
      "  warnings.warn('Solver terminated early (max_iter=%i).'\n",
      "/opt/anaconda3/lib/python3.8/site-packages/sklearn/svm/_base.py:246: ConvergenceWarning: Solver terminated early (max_iter=50).  Consider pre-processing your data with StandardScaler or MinMaxScaler.\n",
      "  warnings.warn('Solver terminated early (max_iter=%i).'\n",
      "/opt/anaconda3/lib/python3.8/site-packages/sklearn/svm/_base.py:246: ConvergenceWarning: Solver terminated early (max_iter=50).  Consider pre-processing your data with StandardScaler or MinMaxScaler.\n",
      "  warnings.warn('Solver terminated early (max_iter=%i).'\n",
      "/opt/anaconda3/lib/python3.8/site-packages/sklearn/svm/_base.py:246: ConvergenceWarning: Solver terminated early (max_iter=50).  Consider pre-processing your data with StandardScaler or MinMaxScaler.\n",
      "  warnings.warn('Solver terminated early (max_iter=%i).'\n",
      "/opt/anaconda3/lib/python3.8/site-packages/sklearn/svm/_base.py:246: ConvergenceWarning: Solver terminated early (max_iter=50).  Consider pre-processing your data with StandardScaler or MinMaxScaler.\n",
      "  warnings.warn('Solver terminated early (max_iter=%i).'\n",
      "/opt/anaconda3/lib/python3.8/site-packages/sklearn/svm/_base.py:246: ConvergenceWarning: Solver terminated early (max_iter=50).  Consider pre-processing your data with StandardScaler or MinMaxScaler.\n",
      "  warnings.warn('Solver terminated early (max_iter=%i).'\n",
      "/opt/anaconda3/lib/python3.8/site-packages/sklearn/svm/_base.py:246: ConvergenceWarning: Solver terminated early (max_iter=50).  Consider pre-processing your data with StandardScaler or MinMaxScaler.\n",
      "  warnings.warn('Solver terminated early (max_iter=%i).'\n",
      "/opt/anaconda3/lib/python3.8/site-packages/sklearn/svm/_base.py:246: ConvergenceWarning: Solver terminated early (max_iter=50).  Consider pre-processing your data with StandardScaler or MinMaxScaler.\n",
      "  warnings.warn('Solver terminated early (max_iter=%i).'\n",
      "/opt/anaconda3/lib/python3.8/site-packages/sklearn/svm/_base.py:246: ConvergenceWarning: Solver terminated early (max_iter=50).  Consider pre-processing your data with StandardScaler or MinMaxScaler.\n",
      "  warnings.warn('Solver terminated early (max_iter=%i).'\n",
      "/opt/anaconda3/lib/python3.8/site-packages/sklearn/svm/_base.py:246: ConvergenceWarning: Solver terminated early (max_iter=50).  Consider pre-processing your data with StandardScaler or MinMaxScaler.\n",
      "  warnings.warn('Solver terminated early (max_iter=%i).'\n",
      "/opt/anaconda3/lib/python3.8/site-packages/sklearn/svm/_base.py:246: ConvergenceWarning: Solver terminated early (max_iter=50).  Consider pre-processing your data with StandardScaler or MinMaxScaler.\n",
      "  warnings.warn('Solver terminated early (max_iter=%i).'\n",
      "/opt/anaconda3/lib/python3.8/site-packages/sklearn/svm/_base.py:246: ConvergenceWarning: Solver terminated early (max_iter=50).  Consider pre-processing your data with StandardScaler or MinMaxScaler.\n",
      "  warnings.warn('Solver terminated early (max_iter=%i).'\n",
      "/opt/anaconda3/lib/python3.8/site-packages/sklearn/svm/_base.py:246: ConvergenceWarning: Solver terminated early (max_iter=50).  Consider pre-processing your data with StandardScaler or MinMaxScaler.\n",
      "  warnings.warn('Solver terminated early (max_iter=%i).'\n",
      "/opt/anaconda3/lib/python3.8/site-packages/sklearn/svm/_base.py:246: ConvergenceWarning: Solver terminated early (max_iter=50).  Consider pre-processing your data with StandardScaler or MinMaxScaler.\n",
      "  warnings.warn('Solver terminated early (max_iter=%i).'\n"
     ]
    },
    {
     "name": "stderr",
     "output_type": "stream",
     "text": [
      "/opt/anaconda3/lib/python3.8/site-packages/sklearn/svm/_base.py:246: ConvergenceWarning: Solver terminated early (max_iter=50).  Consider pre-processing your data with StandardScaler or MinMaxScaler.\n",
      "  warnings.warn('Solver terminated early (max_iter=%i).'\n",
      "/opt/anaconda3/lib/python3.8/site-packages/sklearn/svm/_base.py:246: ConvergenceWarning: Solver terminated early (max_iter=50).  Consider pre-processing your data with StandardScaler or MinMaxScaler.\n",
      "  warnings.warn('Solver terminated early (max_iter=%i).'\n",
      "/opt/anaconda3/lib/python3.8/site-packages/sklearn/svm/_base.py:246: ConvergenceWarning: Solver terminated early (max_iter=50).  Consider pre-processing your data with StandardScaler or MinMaxScaler.\n",
      "  warnings.warn('Solver terminated early (max_iter=%i).'\n",
      "/opt/anaconda3/lib/python3.8/site-packages/sklearn/svm/_base.py:246: ConvergenceWarning: Solver terminated early (max_iter=50).  Consider pre-processing your data with StandardScaler or MinMaxScaler.\n",
      "  warnings.warn('Solver terminated early (max_iter=%i).'\n",
      "/opt/anaconda3/lib/python3.8/site-packages/sklearn/svm/_base.py:246: ConvergenceWarning: Solver terminated early (max_iter=50).  Consider pre-processing your data with StandardScaler or MinMaxScaler.\n",
      "  warnings.warn('Solver terminated early (max_iter=%i).'\n",
      "/opt/anaconda3/lib/python3.8/site-packages/sklearn/svm/_base.py:246: ConvergenceWarning: Solver terminated early (max_iter=50).  Consider pre-processing your data with StandardScaler or MinMaxScaler.\n",
      "  warnings.warn('Solver terminated early (max_iter=%i).'\n",
      "/opt/anaconda3/lib/python3.8/site-packages/sklearn/svm/_base.py:246: ConvergenceWarning: Solver terminated early (max_iter=50).  Consider pre-processing your data with StandardScaler or MinMaxScaler.\n",
      "  warnings.warn('Solver terminated early (max_iter=%i).'\n",
      "/opt/anaconda3/lib/python3.8/site-packages/sklearn/svm/_base.py:246: ConvergenceWarning: Solver terminated early (max_iter=50).  Consider pre-processing your data with StandardScaler or MinMaxScaler.\n",
      "  warnings.warn('Solver terminated early (max_iter=%i).'\n",
      "/opt/anaconda3/lib/python3.8/site-packages/sklearn/svm/_base.py:246: ConvergenceWarning: Solver terminated early (max_iter=50).  Consider pre-processing your data with StandardScaler or MinMaxScaler.\n",
      "  warnings.warn('Solver terminated early (max_iter=%i).'\n",
      "/opt/anaconda3/lib/python3.8/site-packages/sklearn/svm/_base.py:246: ConvergenceWarning: Solver terminated early (max_iter=50).  Consider pre-processing your data with StandardScaler or MinMaxScaler.\n",
      "  warnings.warn('Solver terminated early (max_iter=%i).'\n",
      "/opt/anaconda3/lib/python3.8/site-packages/sklearn/svm/_base.py:246: ConvergenceWarning: Solver terminated early (max_iter=50).  Consider pre-processing your data with StandardScaler or MinMaxScaler.\n",
      "  warnings.warn('Solver terminated early (max_iter=%i).'\n",
      "/opt/anaconda3/lib/python3.8/site-packages/sklearn/svm/_base.py:246: ConvergenceWarning: Solver terminated early (max_iter=50).  Consider pre-processing your data with StandardScaler or MinMaxScaler.\n",
      "  warnings.warn('Solver terminated early (max_iter=%i).'\n",
      "/opt/anaconda3/lib/python3.8/site-packages/sklearn/svm/_base.py:246: ConvergenceWarning: Solver terminated early (max_iter=50).  Consider pre-processing your data with StandardScaler or MinMaxScaler.\n",
      "  warnings.warn('Solver terminated early (max_iter=%i).'\n",
      "/opt/anaconda3/lib/python3.8/site-packages/sklearn/svm/_base.py:246: ConvergenceWarning: Solver terminated early (max_iter=50).  Consider pre-processing your data with StandardScaler or MinMaxScaler.\n",
      "  warnings.warn('Solver terminated early (max_iter=%i).'\n",
      "/opt/anaconda3/lib/python3.8/site-packages/sklearn/svm/_base.py:246: ConvergenceWarning: Solver terminated early (max_iter=50).  Consider pre-processing your data with StandardScaler or MinMaxScaler.\n",
      "  warnings.warn('Solver terminated early (max_iter=%i).'\n",
      "/opt/anaconda3/lib/python3.8/site-packages/sklearn/svm/_base.py:246: ConvergenceWarning: Solver terminated early (max_iter=50).  Consider pre-processing your data with StandardScaler or MinMaxScaler.\n",
      "  warnings.warn('Solver terminated early (max_iter=%i).'\n",
      "/opt/anaconda3/lib/python3.8/site-packages/sklearn/svm/_base.py:246: ConvergenceWarning: Solver terminated early (max_iter=50).  Consider pre-processing your data with StandardScaler or MinMaxScaler.\n",
      "  warnings.warn('Solver terminated early (max_iter=%i).'\n",
      "/opt/anaconda3/lib/python3.8/site-packages/sklearn/svm/_base.py:246: ConvergenceWarning: Solver terminated early (max_iter=50).  Consider pre-processing your data with StandardScaler or MinMaxScaler.\n",
      "  warnings.warn('Solver terminated early (max_iter=%i).'\n",
      "/opt/anaconda3/lib/python3.8/site-packages/sklearn/svm/_base.py:246: ConvergenceWarning: Solver terminated early (max_iter=50).  Consider pre-processing your data with StandardScaler or MinMaxScaler.\n",
      "  warnings.warn('Solver terminated early (max_iter=%i).'\n",
      "/opt/anaconda3/lib/python3.8/site-packages/sklearn/svm/_base.py:246: ConvergenceWarning: Solver terminated early (max_iter=50).  Consider pre-processing your data with StandardScaler or MinMaxScaler.\n",
      "  warnings.warn('Solver terminated early (max_iter=%i).'\n",
      "/opt/anaconda3/lib/python3.8/site-packages/sklearn/svm/_base.py:246: ConvergenceWarning: Solver terminated early (max_iter=50).  Consider pre-processing your data with StandardScaler or MinMaxScaler.\n",
      "  warnings.warn('Solver terminated early (max_iter=%i).'\n",
      "/opt/anaconda3/lib/python3.8/site-packages/sklearn/svm/_base.py:246: ConvergenceWarning: Solver terminated early (max_iter=50).  Consider pre-processing your data with StandardScaler or MinMaxScaler.\n",
      "  warnings.warn('Solver terminated early (max_iter=%i).'\n",
      "/opt/anaconda3/lib/python3.8/site-packages/sklearn/svm/_base.py:246: ConvergenceWarning: Solver terminated early (max_iter=50).  Consider pre-processing your data with StandardScaler or MinMaxScaler.\n",
      "  warnings.warn('Solver terminated early (max_iter=%i).'\n",
      "/opt/anaconda3/lib/python3.8/site-packages/sklearn/svm/_base.py:246: ConvergenceWarning: Solver terminated early (max_iter=50).  Consider pre-processing your data with StandardScaler or MinMaxScaler.\n",
      "  warnings.warn('Solver terminated early (max_iter=%i).'\n",
      "/opt/anaconda3/lib/python3.8/site-packages/sklearn/svm/_base.py:246: ConvergenceWarning: Solver terminated early (max_iter=50).  Consider pre-processing your data with StandardScaler or MinMaxScaler.\n",
      "  warnings.warn('Solver terminated early (max_iter=%i).'\n",
      "/opt/anaconda3/lib/python3.8/site-packages/sklearn/svm/_base.py:246: ConvergenceWarning: Solver terminated early (max_iter=50).  Consider pre-processing your data with StandardScaler or MinMaxScaler.\n",
      "  warnings.warn('Solver terminated early (max_iter=%i).'\n",
      "/opt/anaconda3/lib/python3.8/site-packages/sklearn/svm/_base.py:246: ConvergenceWarning: Solver terminated early (max_iter=50).  Consider pre-processing your data with StandardScaler or MinMaxScaler.\n",
      "  warnings.warn('Solver terminated early (max_iter=%i).'\n",
      "/opt/anaconda3/lib/python3.8/site-packages/sklearn/svm/_base.py:246: ConvergenceWarning: Solver terminated early (max_iter=50).  Consider pre-processing your data with StandardScaler or MinMaxScaler.\n",
      "  warnings.warn('Solver terminated early (max_iter=%i).'\n",
      "/opt/anaconda3/lib/python3.8/site-packages/sklearn/svm/_base.py:246: ConvergenceWarning: Solver terminated early (max_iter=50).  Consider pre-processing your data with StandardScaler or MinMaxScaler.\n",
      "  warnings.warn('Solver terminated early (max_iter=%i).'\n",
      "/opt/anaconda3/lib/python3.8/site-packages/sklearn/svm/_base.py:246: ConvergenceWarning: Solver terminated early (max_iter=50).  Consider pre-processing your data with StandardScaler or MinMaxScaler.\n",
      "  warnings.warn('Solver terminated early (max_iter=%i).'\n",
      "/opt/anaconda3/lib/python3.8/site-packages/sklearn/svm/_base.py:246: ConvergenceWarning: Solver terminated early (max_iter=50).  Consider pre-processing your data with StandardScaler or MinMaxScaler.\n",
      "  warnings.warn('Solver terminated early (max_iter=%i).'\n",
      "/opt/anaconda3/lib/python3.8/site-packages/sklearn/svm/_base.py:246: ConvergenceWarning: Solver terminated early (max_iter=50).  Consider pre-processing your data with StandardScaler or MinMaxScaler.\n",
      "  warnings.warn('Solver terminated early (max_iter=%i).'\n",
      "/opt/anaconda3/lib/python3.8/site-packages/sklearn/svm/_base.py:246: ConvergenceWarning: Solver terminated early (max_iter=50).  Consider pre-processing your data with StandardScaler or MinMaxScaler.\n",
      "  warnings.warn('Solver terminated early (max_iter=%i).'\n",
      "/opt/anaconda3/lib/python3.8/site-packages/sklearn/svm/_base.py:246: ConvergenceWarning: Solver terminated early (max_iter=50).  Consider pre-processing your data with StandardScaler or MinMaxScaler.\n",
      "  warnings.warn('Solver terminated early (max_iter=%i).'\n"
     ]
    },
    {
     "name": "stderr",
     "output_type": "stream",
     "text": [
      "/opt/anaconda3/lib/python3.8/site-packages/sklearn/svm/_base.py:246: ConvergenceWarning: Solver terminated early (max_iter=50).  Consider pre-processing your data with StandardScaler or MinMaxScaler.\n",
      "  warnings.warn('Solver terminated early (max_iter=%i).'\n",
      "/opt/anaconda3/lib/python3.8/site-packages/sklearn/svm/_base.py:246: ConvergenceWarning: Solver terminated early (max_iter=50).  Consider pre-processing your data with StandardScaler or MinMaxScaler.\n",
      "  warnings.warn('Solver terminated early (max_iter=%i).'\n",
      "/opt/anaconda3/lib/python3.8/site-packages/sklearn/svm/_base.py:246: ConvergenceWarning: Solver terminated early (max_iter=50).  Consider pre-processing your data with StandardScaler or MinMaxScaler.\n",
      "  warnings.warn('Solver terminated early (max_iter=%i).'\n",
      "/opt/anaconda3/lib/python3.8/site-packages/sklearn/svm/_base.py:246: ConvergenceWarning: Solver terminated early (max_iter=50).  Consider pre-processing your data with StandardScaler or MinMaxScaler.\n",
      "  warnings.warn('Solver terminated early (max_iter=%i).'\n",
      "/opt/anaconda3/lib/python3.8/site-packages/sklearn/svm/_base.py:246: ConvergenceWarning: Solver terminated early (max_iter=50).  Consider pre-processing your data with StandardScaler or MinMaxScaler.\n",
      "  warnings.warn('Solver terminated early (max_iter=%i).'\n",
      "/opt/anaconda3/lib/python3.8/site-packages/sklearn/svm/_base.py:246: ConvergenceWarning: Solver terminated early (max_iter=50).  Consider pre-processing your data with StandardScaler or MinMaxScaler.\n",
      "  warnings.warn('Solver terminated early (max_iter=%i).'\n",
      "/opt/anaconda3/lib/python3.8/site-packages/sklearn/svm/_base.py:246: ConvergenceWarning: Solver terminated early (max_iter=50).  Consider pre-processing your data with StandardScaler or MinMaxScaler.\n",
      "  warnings.warn('Solver terminated early (max_iter=%i).'\n",
      "/opt/anaconda3/lib/python3.8/site-packages/sklearn/svm/_base.py:246: ConvergenceWarning: Solver terminated early (max_iter=50).  Consider pre-processing your data with StandardScaler or MinMaxScaler.\n",
      "  warnings.warn('Solver terminated early (max_iter=%i).'\n",
      "/opt/anaconda3/lib/python3.8/site-packages/sklearn/svm/_base.py:246: ConvergenceWarning: Solver terminated early (max_iter=50).  Consider pre-processing your data with StandardScaler or MinMaxScaler.\n",
      "  warnings.warn('Solver terminated early (max_iter=%i).'\n",
      "/opt/anaconda3/lib/python3.8/site-packages/sklearn/svm/_base.py:246: ConvergenceWarning: Solver terminated early (max_iter=50).  Consider pre-processing your data with StandardScaler or MinMaxScaler.\n",
      "  warnings.warn('Solver terminated early (max_iter=%i).'\n",
      "/opt/anaconda3/lib/python3.8/site-packages/sklearn/svm/_base.py:246: ConvergenceWarning: Solver terminated early (max_iter=50).  Consider pre-processing your data with StandardScaler or MinMaxScaler.\n",
      "  warnings.warn('Solver terminated early (max_iter=%i).'\n",
      "/opt/anaconda3/lib/python3.8/site-packages/sklearn/svm/_base.py:246: ConvergenceWarning: Solver terminated early (max_iter=50).  Consider pre-processing your data with StandardScaler or MinMaxScaler.\n",
      "  warnings.warn('Solver terminated early (max_iter=%i).'\n",
      "/opt/anaconda3/lib/python3.8/site-packages/sklearn/svm/_base.py:246: ConvergenceWarning: Solver terminated early (max_iter=50).  Consider pre-processing your data with StandardScaler or MinMaxScaler.\n",
      "  warnings.warn('Solver terminated early (max_iter=%i).'\n",
      "/opt/anaconda3/lib/python3.8/site-packages/sklearn/svm/_base.py:246: ConvergenceWarning: Solver terminated early (max_iter=50).  Consider pre-processing your data with StandardScaler or MinMaxScaler.\n",
      "  warnings.warn('Solver terminated early (max_iter=%i).'\n",
      "/opt/anaconda3/lib/python3.8/site-packages/sklearn/svm/_base.py:246: ConvergenceWarning: Solver terminated early (max_iter=50).  Consider pre-processing your data with StandardScaler or MinMaxScaler.\n",
      "  warnings.warn('Solver terminated early (max_iter=%i).'\n",
      "/opt/anaconda3/lib/python3.8/site-packages/sklearn/svm/_base.py:246: ConvergenceWarning: Solver terminated early (max_iter=50).  Consider pre-processing your data with StandardScaler or MinMaxScaler.\n",
      "  warnings.warn('Solver terminated early (max_iter=%i).'\n",
      "/opt/anaconda3/lib/python3.8/site-packages/sklearn/svm/_base.py:246: ConvergenceWarning: Solver terminated early (max_iter=50).  Consider pre-processing your data with StandardScaler or MinMaxScaler.\n",
      "  warnings.warn('Solver terminated early (max_iter=%i).'\n",
      "/opt/anaconda3/lib/python3.8/site-packages/sklearn/svm/_base.py:246: ConvergenceWarning: Solver terminated early (max_iter=50).  Consider pre-processing your data with StandardScaler or MinMaxScaler.\n",
      "  warnings.warn('Solver terminated early (max_iter=%i).'\n",
      "/opt/anaconda3/lib/python3.8/site-packages/sklearn/svm/_base.py:246: ConvergenceWarning: Solver terminated early (max_iter=50).  Consider pre-processing your data with StandardScaler or MinMaxScaler.\n",
      "  warnings.warn('Solver terminated early (max_iter=%i).'\n",
      "/opt/anaconda3/lib/python3.8/site-packages/sklearn/svm/_base.py:246: ConvergenceWarning: Solver terminated early (max_iter=50).  Consider pre-processing your data with StandardScaler or MinMaxScaler.\n",
      "  warnings.warn('Solver terminated early (max_iter=%i).'\n",
      "/opt/anaconda3/lib/python3.8/site-packages/sklearn/svm/_base.py:246: ConvergenceWarning: Solver terminated early (max_iter=50).  Consider pre-processing your data with StandardScaler or MinMaxScaler.\n",
      "  warnings.warn('Solver terminated early (max_iter=%i).'\n",
      "/opt/anaconda3/lib/python3.8/site-packages/sklearn/svm/_base.py:246: ConvergenceWarning: Solver terminated early (max_iter=50).  Consider pre-processing your data with StandardScaler or MinMaxScaler.\n",
      "  warnings.warn('Solver terminated early (max_iter=%i).'\n",
      "/opt/anaconda3/lib/python3.8/site-packages/sklearn/svm/_base.py:246: ConvergenceWarning: Solver terminated early (max_iter=50).  Consider pre-processing your data with StandardScaler or MinMaxScaler.\n",
      "  warnings.warn('Solver terminated early (max_iter=%i).'\n",
      "/opt/anaconda3/lib/python3.8/site-packages/sklearn/svm/_base.py:246: ConvergenceWarning: Solver terminated early (max_iter=50).  Consider pre-processing your data with StandardScaler or MinMaxScaler.\n",
      "  warnings.warn('Solver terminated early (max_iter=%i).'\n",
      "/opt/anaconda3/lib/python3.8/site-packages/sklearn/svm/_base.py:246: ConvergenceWarning: Solver terminated early (max_iter=50).  Consider pre-processing your data with StandardScaler or MinMaxScaler.\n",
      "  warnings.warn('Solver terminated early (max_iter=%i).'\n",
      "/opt/anaconda3/lib/python3.8/site-packages/sklearn/svm/_base.py:246: ConvergenceWarning: Solver terminated early (max_iter=50).  Consider pre-processing your data with StandardScaler or MinMaxScaler.\n",
      "  warnings.warn('Solver terminated early (max_iter=%i).'\n",
      "/opt/anaconda3/lib/python3.8/site-packages/sklearn/svm/_base.py:246: ConvergenceWarning: Solver terminated early (max_iter=50).  Consider pre-processing your data with StandardScaler or MinMaxScaler.\n",
      "  warnings.warn('Solver terminated early (max_iter=%i).'\n",
      "/opt/anaconda3/lib/python3.8/site-packages/sklearn/svm/_base.py:246: ConvergenceWarning: Solver terminated early (max_iter=50).  Consider pre-processing your data with StandardScaler or MinMaxScaler.\n",
      "  warnings.warn('Solver terminated early (max_iter=%i).'\n",
      "/opt/anaconda3/lib/python3.8/site-packages/sklearn/svm/_base.py:246: ConvergenceWarning: Solver terminated early (max_iter=50).  Consider pre-processing your data with StandardScaler or MinMaxScaler.\n",
      "  warnings.warn('Solver terminated early (max_iter=%i).'\n",
      "/opt/anaconda3/lib/python3.8/site-packages/sklearn/svm/_base.py:246: ConvergenceWarning: Solver terminated early (max_iter=50).  Consider pre-processing your data with StandardScaler or MinMaxScaler.\n",
      "  warnings.warn('Solver terminated early (max_iter=%i).'\n",
      "/opt/anaconda3/lib/python3.8/site-packages/sklearn/svm/_base.py:246: ConvergenceWarning: Solver terminated early (max_iter=50).  Consider pre-processing your data with StandardScaler or MinMaxScaler.\n",
      "  warnings.warn('Solver terminated early (max_iter=%i).'\n",
      "/opt/anaconda3/lib/python3.8/site-packages/sklearn/svm/_base.py:246: ConvergenceWarning: Solver terminated early (max_iter=50).  Consider pre-processing your data with StandardScaler or MinMaxScaler.\n",
      "  warnings.warn('Solver terminated early (max_iter=%i).'\n",
      "/opt/anaconda3/lib/python3.8/site-packages/sklearn/svm/_base.py:246: ConvergenceWarning: Solver terminated early (max_iter=50).  Consider pre-processing your data with StandardScaler or MinMaxScaler.\n",
      "  warnings.warn('Solver terminated early (max_iter=%i).'\n",
      "/opt/anaconda3/lib/python3.8/site-packages/sklearn/svm/_base.py:246: ConvergenceWarning: Solver terminated early (max_iter=50).  Consider pre-processing your data with StandardScaler or MinMaxScaler.\n",
      "  warnings.warn('Solver terminated early (max_iter=%i).'\n",
      "/opt/anaconda3/lib/python3.8/site-packages/sklearn/svm/_base.py:246: ConvergenceWarning: Solver terminated early (max_iter=50).  Consider pre-processing your data with StandardScaler or MinMaxScaler.\n",
      "  warnings.warn('Solver terminated early (max_iter=%i).'\n",
      "/opt/anaconda3/lib/python3.8/site-packages/sklearn/svm/_base.py:246: ConvergenceWarning: Solver terminated early (max_iter=50).  Consider pre-processing your data with StandardScaler or MinMaxScaler.\n",
      "  warnings.warn('Solver terminated early (max_iter=%i).'\n",
      "/opt/anaconda3/lib/python3.8/site-packages/sklearn/svm/_base.py:246: ConvergenceWarning: Solver terminated early (max_iter=50).  Consider pre-processing your data with StandardScaler or MinMaxScaler.\n",
      "  warnings.warn('Solver terminated early (max_iter=%i).'\n",
      "/opt/anaconda3/lib/python3.8/site-packages/sklearn/svm/_base.py:246: ConvergenceWarning: Solver terminated early (max_iter=50).  Consider pre-processing your data with StandardScaler or MinMaxScaler.\n",
      "  warnings.warn('Solver terminated early (max_iter=%i).'\n",
      "/opt/anaconda3/lib/python3.8/site-packages/sklearn/svm/_base.py:246: ConvergenceWarning: Solver terminated early (max_iter=50).  Consider pre-processing your data with StandardScaler or MinMaxScaler.\n",
      "  warnings.warn('Solver terminated early (max_iter=%i).'\n",
      "/opt/anaconda3/lib/python3.8/site-packages/sklearn/svm/_base.py:246: ConvergenceWarning: Solver terminated early (max_iter=50).  Consider pre-processing your data with StandardScaler or MinMaxScaler.\n",
      "  warnings.warn('Solver terminated early (max_iter=%i).'\n"
     ]
    },
    {
     "name": "stderr",
     "output_type": "stream",
     "text": [
      "/opt/anaconda3/lib/python3.8/site-packages/sklearn/svm/_base.py:246: ConvergenceWarning: Solver terminated early (max_iter=50).  Consider pre-processing your data with StandardScaler or MinMaxScaler.\n",
      "  warnings.warn('Solver terminated early (max_iter=%i).'\n",
      "/opt/anaconda3/lib/python3.8/site-packages/sklearn/svm/_base.py:246: ConvergenceWarning: Solver terminated early (max_iter=50).  Consider pre-processing your data with StandardScaler or MinMaxScaler.\n",
      "  warnings.warn('Solver terminated early (max_iter=%i).'\n",
      "/opt/anaconda3/lib/python3.8/site-packages/sklearn/svm/_base.py:246: ConvergenceWarning: Solver terminated early (max_iter=50).  Consider pre-processing your data with StandardScaler or MinMaxScaler.\n",
      "  warnings.warn('Solver terminated early (max_iter=%i).'\n",
      "/opt/anaconda3/lib/python3.8/site-packages/sklearn/svm/_base.py:246: ConvergenceWarning: Solver terminated early (max_iter=50).  Consider pre-processing your data with StandardScaler or MinMaxScaler.\n",
      "  warnings.warn('Solver terminated early (max_iter=%i).'\n",
      "/opt/anaconda3/lib/python3.8/site-packages/sklearn/svm/_base.py:246: ConvergenceWarning: Solver terminated early (max_iter=50).  Consider pre-processing your data with StandardScaler or MinMaxScaler.\n",
      "  warnings.warn('Solver terminated early (max_iter=%i).'\n",
      "/opt/anaconda3/lib/python3.8/site-packages/sklearn/svm/_base.py:246: ConvergenceWarning: Solver terminated early (max_iter=50).  Consider pre-processing your data with StandardScaler or MinMaxScaler.\n",
      "  warnings.warn('Solver terminated early (max_iter=%i).'\n",
      "/opt/anaconda3/lib/python3.8/site-packages/sklearn/svm/_base.py:246: ConvergenceWarning: Solver terminated early (max_iter=50).  Consider pre-processing your data with StandardScaler or MinMaxScaler.\n",
      "  warnings.warn('Solver terminated early (max_iter=%i).'\n",
      "/opt/anaconda3/lib/python3.8/site-packages/sklearn/svm/_base.py:246: ConvergenceWarning: Solver terminated early (max_iter=50).  Consider pre-processing your data with StandardScaler or MinMaxScaler.\n",
      "  warnings.warn('Solver terminated early (max_iter=%i).'\n",
      "/opt/anaconda3/lib/python3.8/site-packages/sklearn/svm/_base.py:246: ConvergenceWarning: Solver terminated early (max_iter=50).  Consider pre-processing your data with StandardScaler or MinMaxScaler.\n",
      "  warnings.warn('Solver terminated early (max_iter=%i).'\n",
      "/opt/anaconda3/lib/python3.8/site-packages/sklearn/svm/_base.py:246: ConvergenceWarning: Solver terminated early (max_iter=50).  Consider pre-processing your data with StandardScaler or MinMaxScaler.\n",
      "  warnings.warn('Solver terminated early (max_iter=%i).'\n",
      "/opt/anaconda3/lib/python3.8/site-packages/sklearn/svm/_base.py:246: ConvergenceWarning: Solver terminated early (max_iter=50).  Consider pre-processing your data with StandardScaler or MinMaxScaler.\n",
      "  warnings.warn('Solver terminated early (max_iter=%i).'\n",
      "/opt/anaconda3/lib/python3.8/site-packages/sklearn/svm/_base.py:246: ConvergenceWarning: Solver terminated early (max_iter=50).  Consider pre-processing your data with StandardScaler or MinMaxScaler.\n",
      "  warnings.warn('Solver terminated early (max_iter=%i).'\n",
      "/opt/anaconda3/lib/python3.8/site-packages/sklearn/svm/_base.py:246: ConvergenceWarning: Solver terminated early (max_iter=50).  Consider pre-processing your data with StandardScaler or MinMaxScaler.\n",
      "  warnings.warn('Solver terminated early (max_iter=%i).'\n",
      "/opt/anaconda3/lib/python3.8/site-packages/sklearn/svm/_base.py:246: ConvergenceWarning: Solver terminated early (max_iter=50).  Consider pre-processing your data with StandardScaler or MinMaxScaler.\n",
      "  warnings.warn('Solver terminated early (max_iter=%i).'\n",
      "/opt/anaconda3/lib/python3.8/site-packages/sklearn/svm/_base.py:246: ConvergenceWarning: Solver terminated early (max_iter=50).  Consider pre-processing your data with StandardScaler or MinMaxScaler.\n",
      "  warnings.warn('Solver terminated early (max_iter=%i).'\n",
      "/opt/anaconda3/lib/python3.8/site-packages/sklearn/svm/_base.py:246: ConvergenceWarning: Solver terminated early (max_iter=50).  Consider pre-processing your data with StandardScaler or MinMaxScaler.\n",
      "  warnings.warn('Solver terminated early (max_iter=%i).'\n",
      "/opt/anaconda3/lib/python3.8/site-packages/sklearn/svm/_base.py:246: ConvergenceWarning: Solver terminated early (max_iter=50).  Consider pre-processing your data with StandardScaler or MinMaxScaler.\n",
      "  warnings.warn('Solver terminated early (max_iter=%i).'\n",
      "/opt/anaconda3/lib/python3.8/site-packages/sklearn/svm/_base.py:246: ConvergenceWarning: Solver terminated early (max_iter=50).  Consider pre-processing your data with StandardScaler or MinMaxScaler.\n",
      "  warnings.warn('Solver terminated early (max_iter=%i).'\n",
      "/opt/anaconda3/lib/python3.8/site-packages/sklearn/svm/_base.py:246: ConvergenceWarning: Solver terminated early (max_iter=50).  Consider pre-processing your data with StandardScaler or MinMaxScaler.\n",
      "  warnings.warn('Solver terminated early (max_iter=%i).'\n",
      "/opt/anaconda3/lib/python3.8/site-packages/sklearn/svm/_base.py:246: ConvergenceWarning: Solver terminated early (max_iter=50).  Consider pre-processing your data with StandardScaler or MinMaxScaler.\n",
      "  warnings.warn('Solver terminated early (max_iter=%i).'\n",
      "/opt/anaconda3/lib/python3.8/site-packages/sklearn/svm/_base.py:246: ConvergenceWarning: Solver terminated early (max_iter=50).  Consider pre-processing your data with StandardScaler or MinMaxScaler.\n",
      "  warnings.warn('Solver terminated early (max_iter=%i).'\n",
      "/opt/anaconda3/lib/python3.8/site-packages/sklearn/svm/_base.py:246: ConvergenceWarning: Solver terminated early (max_iter=50).  Consider pre-processing your data with StandardScaler or MinMaxScaler.\n",
      "  warnings.warn('Solver terminated early (max_iter=%i).'\n",
      "/opt/anaconda3/lib/python3.8/site-packages/sklearn/svm/_base.py:246: ConvergenceWarning: Solver terminated early (max_iter=50).  Consider pre-processing your data with StandardScaler or MinMaxScaler.\n",
      "  warnings.warn('Solver terminated early (max_iter=%i).'\n",
      "/opt/anaconda3/lib/python3.8/site-packages/sklearn/svm/_base.py:246: ConvergenceWarning: Solver terminated early (max_iter=50).  Consider pre-processing your data with StandardScaler or MinMaxScaler.\n",
      "  warnings.warn('Solver terminated early (max_iter=%i).'\n",
      "/opt/anaconda3/lib/python3.8/site-packages/sklearn/svm/_base.py:246: ConvergenceWarning: Solver terminated early (max_iter=50).  Consider pre-processing your data with StandardScaler or MinMaxScaler.\n",
      "  warnings.warn('Solver terminated early (max_iter=%i).'\n",
      "/opt/anaconda3/lib/python3.8/site-packages/sklearn/svm/_base.py:246: ConvergenceWarning: Solver terminated early (max_iter=50).  Consider pre-processing your data with StandardScaler or MinMaxScaler.\n",
      "  warnings.warn('Solver terminated early (max_iter=%i).'\n",
      "/opt/anaconda3/lib/python3.8/site-packages/sklearn/svm/_base.py:246: ConvergenceWarning: Solver terminated early (max_iter=50).  Consider pre-processing your data with StandardScaler or MinMaxScaler.\n",
      "  warnings.warn('Solver terminated early (max_iter=%i).'\n",
      "/opt/anaconda3/lib/python3.8/site-packages/sklearn/svm/_base.py:246: ConvergenceWarning: Solver terminated early (max_iter=50).  Consider pre-processing your data with StandardScaler or MinMaxScaler.\n",
      "  warnings.warn('Solver terminated early (max_iter=%i).'\n",
      "/opt/anaconda3/lib/python3.8/site-packages/sklearn/svm/_base.py:246: ConvergenceWarning: Solver terminated early (max_iter=50).  Consider pre-processing your data with StandardScaler or MinMaxScaler.\n",
      "  warnings.warn('Solver terminated early (max_iter=%i).'\n",
      "/opt/anaconda3/lib/python3.8/site-packages/sklearn/svm/_base.py:246: ConvergenceWarning: Solver terminated early (max_iter=50).  Consider pre-processing your data with StandardScaler or MinMaxScaler.\n",
      "  warnings.warn('Solver terminated early (max_iter=%i).'\n",
      "/opt/anaconda3/lib/python3.8/site-packages/sklearn/svm/_base.py:246: ConvergenceWarning: Solver terminated early (max_iter=50).  Consider pre-processing your data with StandardScaler or MinMaxScaler.\n",
      "  warnings.warn('Solver terminated early (max_iter=%i).'\n",
      "/opt/anaconda3/lib/python3.8/site-packages/sklearn/svm/_base.py:246: ConvergenceWarning: Solver terminated early (max_iter=50).  Consider pre-processing your data with StandardScaler or MinMaxScaler.\n",
      "  warnings.warn('Solver terminated early (max_iter=%i).'\n"
     ]
    },
    {
     "name": "stderr",
     "output_type": "stream",
     "text": [
      "/opt/anaconda3/lib/python3.8/site-packages/sklearn/svm/_base.py:246: ConvergenceWarning: Solver terminated early (max_iter=50).  Consider pre-processing your data with StandardScaler or MinMaxScaler.\n",
      "  warnings.warn('Solver terminated early (max_iter=%i).'\n",
      "/opt/anaconda3/lib/python3.8/site-packages/sklearn/svm/_base.py:246: ConvergenceWarning: Solver terminated early (max_iter=50).  Consider pre-processing your data with StandardScaler or MinMaxScaler.\n",
      "  warnings.warn('Solver terminated early (max_iter=%i).'\n",
      "/opt/anaconda3/lib/python3.8/site-packages/sklearn/svm/_base.py:246: ConvergenceWarning: Solver terminated early (max_iter=50).  Consider pre-processing your data with StandardScaler or MinMaxScaler.\n",
      "  warnings.warn('Solver terminated early (max_iter=%i).'\n",
      "/opt/anaconda3/lib/python3.8/site-packages/sklearn/svm/_base.py:246: ConvergenceWarning: Solver terminated early (max_iter=50).  Consider pre-processing your data with StandardScaler or MinMaxScaler.\n",
      "  warnings.warn('Solver terminated early (max_iter=%i).'\n",
      "/opt/anaconda3/lib/python3.8/site-packages/sklearn/svm/_base.py:246: ConvergenceWarning: Solver terminated early (max_iter=50).  Consider pre-processing your data with StandardScaler or MinMaxScaler.\n",
      "  warnings.warn('Solver terminated early (max_iter=%i).'\n",
      "/opt/anaconda3/lib/python3.8/site-packages/sklearn/svm/_base.py:246: ConvergenceWarning: Solver terminated early (max_iter=50).  Consider pre-processing your data with StandardScaler or MinMaxScaler.\n",
      "  warnings.warn('Solver terminated early (max_iter=%i).'\n",
      "/opt/anaconda3/lib/python3.8/site-packages/sklearn/svm/_base.py:246: ConvergenceWarning: Solver terminated early (max_iter=50).  Consider pre-processing your data with StandardScaler or MinMaxScaler.\n",
      "  warnings.warn('Solver terminated early (max_iter=%i).'\n",
      "/opt/anaconda3/lib/python3.8/site-packages/sklearn/svm/_base.py:246: ConvergenceWarning: Solver terminated early (max_iter=50).  Consider pre-processing your data with StandardScaler or MinMaxScaler.\n",
      "  warnings.warn('Solver terminated early (max_iter=%i).'\n",
      "/opt/anaconda3/lib/python3.8/site-packages/sklearn/svm/_base.py:246: ConvergenceWarning: Solver terminated early (max_iter=50).  Consider pre-processing your data with StandardScaler or MinMaxScaler.\n",
      "  warnings.warn('Solver terminated early (max_iter=%i).'\n",
      "/opt/anaconda3/lib/python3.8/site-packages/sklearn/svm/_base.py:246: ConvergenceWarning: Solver terminated early (max_iter=50).  Consider pre-processing your data with StandardScaler or MinMaxScaler.\n",
      "  warnings.warn('Solver terminated early (max_iter=%i).'\n",
      "/opt/anaconda3/lib/python3.8/site-packages/sklearn/svm/_base.py:246: ConvergenceWarning: Solver terminated early (max_iter=50).  Consider pre-processing your data with StandardScaler or MinMaxScaler.\n",
      "  warnings.warn('Solver terminated early (max_iter=%i).'\n",
      "/opt/anaconda3/lib/python3.8/site-packages/sklearn/svm/_base.py:246: ConvergenceWarning: Solver terminated early (max_iter=50).  Consider pre-processing your data with StandardScaler or MinMaxScaler.\n",
      "  warnings.warn('Solver terminated early (max_iter=%i).'\n",
      "/opt/anaconda3/lib/python3.8/site-packages/sklearn/svm/_base.py:246: ConvergenceWarning: Solver terminated early (max_iter=50).  Consider pre-processing your data with StandardScaler or MinMaxScaler.\n",
      "  warnings.warn('Solver terminated early (max_iter=%i).'\n",
      "/opt/anaconda3/lib/python3.8/site-packages/sklearn/svm/_base.py:246: ConvergenceWarning: Solver terminated early (max_iter=50).  Consider pre-processing your data with StandardScaler or MinMaxScaler.\n",
      "  warnings.warn('Solver terminated early (max_iter=%i).'\n",
      "/opt/anaconda3/lib/python3.8/site-packages/sklearn/svm/_base.py:246: ConvergenceWarning: Solver terminated early (max_iter=50).  Consider pre-processing your data with StandardScaler or MinMaxScaler.\n",
      "  warnings.warn('Solver terminated early (max_iter=%i).'\n",
      "/opt/anaconda3/lib/python3.8/site-packages/sklearn/svm/_base.py:246: ConvergenceWarning: Solver terminated early (max_iter=50).  Consider pre-processing your data with StandardScaler or MinMaxScaler.\n",
      "  warnings.warn('Solver terminated early (max_iter=%i).'\n",
      "/opt/anaconda3/lib/python3.8/site-packages/sklearn/svm/_base.py:246: ConvergenceWarning: Solver terminated early (max_iter=50).  Consider pre-processing your data with StandardScaler or MinMaxScaler.\n",
      "  warnings.warn('Solver terminated early (max_iter=%i).'\n",
      "/opt/anaconda3/lib/python3.8/site-packages/sklearn/svm/_base.py:246: ConvergenceWarning: Solver terminated early (max_iter=50).  Consider pre-processing your data with StandardScaler or MinMaxScaler.\n",
      "  warnings.warn('Solver terminated early (max_iter=%i).'\n",
      "/opt/anaconda3/lib/python3.8/site-packages/sklearn/svm/_base.py:246: ConvergenceWarning: Solver terminated early (max_iter=50).  Consider pre-processing your data with StandardScaler or MinMaxScaler.\n",
      "  warnings.warn('Solver terminated early (max_iter=%i).'\n",
      "/opt/anaconda3/lib/python3.8/site-packages/sklearn/svm/_base.py:246: ConvergenceWarning: Solver terminated early (max_iter=50).  Consider pre-processing your data with StandardScaler or MinMaxScaler.\n",
      "  warnings.warn('Solver terminated early (max_iter=%i).'\n",
      "/opt/anaconda3/lib/python3.8/site-packages/sklearn/svm/_base.py:246: ConvergenceWarning: Solver terminated early (max_iter=50).  Consider pre-processing your data with StandardScaler or MinMaxScaler.\n",
      "  warnings.warn('Solver terminated early (max_iter=%i).'\n",
      "/opt/anaconda3/lib/python3.8/site-packages/sklearn/svm/_base.py:246: ConvergenceWarning: Solver terminated early (max_iter=50).  Consider pre-processing your data with StandardScaler or MinMaxScaler.\n",
      "  warnings.warn('Solver terminated early (max_iter=%i).'\n",
      "/opt/anaconda3/lib/python3.8/site-packages/sklearn/svm/_base.py:246: ConvergenceWarning: Solver terminated early (max_iter=50).  Consider pre-processing your data with StandardScaler or MinMaxScaler.\n",
      "  warnings.warn('Solver terminated early (max_iter=%i).'\n",
      "/opt/anaconda3/lib/python3.8/site-packages/sklearn/svm/_base.py:246: ConvergenceWarning: Solver terminated early (max_iter=50).  Consider pre-processing your data with StandardScaler or MinMaxScaler.\n",
      "  warnings.warn('Solver terminated early (max_iter=%i).'\n",
      "/opt/anaconda3/lib/python3.8/site-packages/sklearn/svm/_base.py:246: ConvergenceWarning: Solver terminated early (max_iter=50).  Consider pre-processing your data with StandardScaler or MinMaxScaler.\n",
      "  warnings.warn('Solver terminated early (max_iter=%i).'\n",
      "/opt/anaconda3/lib/python3.8/site-packages/sklearn/svm/_base.py:246: ConvergenceWarning: Solver terminated early (max_iter=50).  Consider pre-processing your data with StandardScaler or MinMaxScaler.\n",
      "  warnings.warn('Solver terminated early (max_iter=%i).'\n",
      "/opt/anaconda3/lib/python3.8/site-packages/sklearn/svm/_base.py:246: ConvergenceWarning: Solver terminated early (max_iter=50).  Consider pre-processing your data with StandardScaler or MinMaxScaler.\n",
      "  warnings.warn('Solver terminated early (max_iter=%i).'\n",
      "/opt/anaconda3/lib/python3.8/site-packages/sklearn/svm/_base.py:246: ConvergenceWarning: Solver terminated early (max_iter=50).  Consider pre-processing your data with StandardScaler or MinMaxScaler.\n",
      "  warnings.warn('Solver terminated early (max_iter=%i).'\n",
      "/opt/anaconda3/lib/python3.8/site-packages/sklearn/svm/_base.py:246: ConvergenceWarning: Solver terminated early (max_iter=50).  Consider pre-processing your data with StandardScaler or MinMaxScaler.\n",
      "  warnings.warn('Solver terminated early (max_iter=%i).'\n",
      "/opt/anaconda3/lib/python3.8/site-packages/sklearn/svm/_base.py:246: ConvergenceWarning: Solver terminated early (max_iter=50).  Consider pre-processing your data with StandardScaler or MinMaxScaler.\n",
      "  warnings.warn('Solver terminated early (max_iter=%i).'\n",
      "/opt/anaconda3/lib/python3.8/site-packages/sklearn/svm/_base.py:246: ConvergenceWarning: Solver terminated early (max_iter=50).  Consider pre-processing your data with StandardScaler or MinMaxScaler.\n",
      "  warnings.warn('Solver terminated early (max_iter=%i).'\n",
      "/opt/anaconda3/lib/python3.8/site-packages/sklearn/svm/_base.py:246: ConvergenceWarning: Solver terminated early (max_iter=50).  Consider pre-processing your data with StandardScaler or MinMaxScaler.\n",
      "  warnings.warn('Solver terminated early (max_iter=%i).'\n",
      "/opt/anaconda3/lib/python3.8/site-packages/sklearn/svm/_base.py:246: ConvergenceWarning: Solver terminated early (max_iter=50).  Consider pre-processing your data with StandardScaler or MinMaxScaler.\n",
      "  warnings.warn('Solver terminated early (max_iter=%i).'\n",
      "/opt/anaconda3/lib/python3.8/site-packages/sklearn/svm/_base.py:246: ConvergenceWarning: Solver terminated early (max_iter=50).  Consider pre-processing your data with StandardScaler or MinMaxScaler.\n",
      "  warnings.warn('Solver terminated early (max_iter=%i).'\n",
      "/opt/anaconda3/lib/python3.8/site-packages/sklearn/svm/_base.py:246: ConvergenceWarning: Solver terminated early (max_iter=50).  Consider pre-processing your data with StandardScaler or MinMaxScaler.\n",
      "  warnings.warn('Solver terminated early (max_iter=%i).'\n",
      "/opt/anaconda3/lib/python3.8/site-packages/sklearn/svm/_base.py:246: ConvergenceWarning: Solver terminated early (max_iter=50).  Consider pre-processing your data with StandardScaler or MinMaxScaler.\n",
      "  warnings.warn('Solver terminated early (max_iter=%i).'\n",
      "/opt/anaconda3/lib/python3.8/site-packages/sklearn/svm/_base.py:246: ConvergenceWarning: Solver terminated early (max_iter=50).  Consider pre-processing your data with StandardScaler or MinMaxScaler.\n",
      "  warnings.warn('Solver terminated early (max_iter=%i).'\n",
      "/opt/anaconda3/lib/python3.8/site-packages/sklearn/svm/_base.py:246: ConvergenceWarning: Solver terminated early (max_iter=50).  Consider pre-processing your data with StandardScaler or MinMaxScaler.\n",
      "  warnings.warn('Solver terminated early (max_iter=%i).'\n"
     ]
    },
    {
     "name": "stderr",
     "output_type": "stream",
     "text": [
      "/opt/anaconda3/lib/python3.8/site-packages/sklearn/svm/_base.py:246: ConvergenceWarning: Solver terminated early (max_iter=50).  Consider pre-processing your data with StandardScaler or MinMaxScaler.\n",
      "  warnings.warn('Solver terminated early (max_iter=%i).'\n",
      "/opt/anaconda3/lib/python3.8/site-packages/sklearn/svm/_base.py:246: ConvergenceWarning: Solver terminated early (max_iter=50).  Consider pre-processing your data with StandardScaler or MinMaxScaler.\n",
      "  warnings.warn('Solver terminated early (max_iter=%i).'\n",
      "/opt/anaconda3/lib/python3.8/site-packages/sklearn/svm/_base.py:246: ConvergenceWarning: Solver terminated early (max_iter=50).  Consider pre-processing your data with StandardScaler or MinMaxScaler.\n",
      "  warnings.warn('Solver terminated early (max_iter=%i).'\n",
      "/opt/anaconda3/lib/python3.8/site-packages/sklearn/svm/_base.py:246: ConvergenceWarning: Solver terminated early (max_iter=50).  Consider pre-processing your data with StandardScaler or MinMaxScaler.\n",
      "  warnings.warn('Solver terminated early (max_iter=%i).'\n",
      "/opt/anaconda3/lib/python3.8/site-packages/sklearn/svm/_base.py:246: ConvergenceWarning: Solver terminated early (max_iter=50).  Consider pre-processing your data with StandardScaler or MinMaxScaler.\n",
      "  warnings.warn('Solver terminated early (max_iter=%i).'\n",
      "/opt/anaconda3/lib/python3.8/site-packages/sklearn/svm/_base.py:246: ConvergenceWarning: Solver terminated early (max_iter=50).  Consider pre-processing your data with StandardScaler or MinMaxScaler.\n",
      "  warnings.warn('Solver terminated early (max_iter=%i).'\n",
      "/opt/anaconda3/lib/python3.8/site-packages/sklearn/svm/_base.py:246: ConvergenceWarning: Solver terminated early (max_iter=50).  Consider pre-processing your data with StandardScaler or MinMaxScaler.\n",
      "  warnings.warn('Solver terminated early (max_iter=%i).'\n",
      "/opt/anaconda3/lib/python3.8/site-packages/sklearn/svm/_base.py:246: ConvergenceWarning: Solver terminated early (max_iter=50).  Consider pre-processing your data with StandardScaler or MinMaxScaler.\n",
      "  warnings.warn('Solver terminated early (max_iter=%i).'\n",
      "/opt/anaconda3/lib/python3.8/site-packages/sklearn/svm/_base.py:246: ConvergenceWarning: Solver terminated early (max_iter=50).  Consider pre-processing your data with StandardScaler or MinMaxScaler.\n",
      "  warnings.warn('Solver terminated early (max_iter=%i).'\n",
      "/opt/anaconda3/lib/python3.8/site-packages/sklearn/svm/_base.py:246: ConvergenceWarning: Solver terminated early (max_iter=50).  Consider pre-processing your data with StandardScaler or MinMaxScaler.\n",
      "  warnings.warn('Solver terminated early (max_iter=%i).'\n",
      "/opt/anaconda3/lib/python3.8/site-packages/sklearn/svm/_base.py:246: ConvergenceWarning: Solver terminated early (max_iter=50).  Consider pre-processing your data with StandardScaler or MinMaxScaler.\n",
      "  warnings.warn('Solver terminated early (max_iter=%i).'\n",
      "/opt/anaconda3/lib/python3.8/site-packages/sklearn/svm/_base.py:246: ConvergenceWarning: Solver terminated early (max_iter=50).  Consider pre-processing your data with StandardScaler or MinMaxScaler.\n",
      "  warnings.warn('Solver terminated early (max_iter=%i).'\n",
      "/opt/anaconda3/lib/python3.8/site-packages/sklearn/svm/_base.py:246: ConvergenceWarning: Solver terminated early (max_iter=50).  Consider pre-processing your data with StandardScaler or MinMaxScaler.\n",
      "  warnings.warn('Solver terminated early (max_iter=%i).'\n",
      "/opt/anaconda3/lib/python3.8/site-packages/sklearn/svm/_base.py:246: ConvergenceWarning: Solver terminated early (max_iter=50).  Consider pre-processing your data with StandardScaler or MinMaxScaler.\n",
      "  warnings.warn('Solver terminated early (max_iter=%i).'\n",
      "/opt/anaconda3/lib/python3.8/site-packages/sklearn/svm/_base.py:246: ConvergenceWarning: Solver terminated early (max_iter=50).  Consider pre-processing your data with StandardScaler or MinMaxScaler.\n",
      "  warnings.warn('Solver terminated early (max_iter=%i).'\n",
      "/opt/anaconda3/lib/python3.8/site-packages/sklearn/svm/_base.py:246: ConvergenceWarning: Solver terminated early (max_iter=50).  Consider pre-processing your data with StandardScaler or MinMaxScaler.\n",
      "  warnings.warn('Solver terminated early (max_iter=%i).'\n",
      "/opt/anaconda3/lib/python3.8/site-packages/sklearn/svm/_base.py:246: ConvergenceWarning: Solver terminated early (max_iter=50).  Consider pre-processing your data with StandardScaler or MinMaxScaler.\n",
      "  warnings.warn('Solver terminated early (max_iter=%i).'\n",
      "/opt/anaconda3/lib/python3.8/site-packages/sklearn/svm/_base.py:246: ConvergenceWarning: Solver terminated early (max_iter=50).  Consider pre-processing your data with StandardScaler or MinMaxScaler.\n",
      "  warnings.warn('Solver terminated early (max_iter=%i).'\n",
      "/opt/anaconda3/lib/python3.8/site-packages/sklearn/svm/_base.py:246: ConvergenceWarning: Solver terminated early (max_iter=50).  Consider pre-processing your data with StandardScaler or MinMaxScaler.\n",
      "  warnings.warn('Solver terminated early (max_iter=%i).'\n",
      "/opt/anaconda3/lib/python3.8/site-packages/sklearn/svm/_base.py:246: ConvergenceWarning: Solver terminated early (max_iter=50).  Consider pre-processing your data with StandardScaler or MinMaxScaler.\n",
      "  warnings.warn('Solver terminated early (max_iter=%i).'\n",
      "/opt/anaconda3/lib/python3.8/site-packages/sklearn/svm/_base.py:246: ConvergenceWarning: Solver terminated early (max_iter=50).  Consider pre-processing your data with StandardScaler or MinMaxScaler.\n",
      "  warnings.warn('Solver terminated early (max_iter=%i).'\n",
      "/opt/anaconda3/lib/python3.8/site-packages/sklearn/svm/_base.py:246: ConvergenceWarning: Solver terminated early (max_iter=50).  Consider pre-processing your data with StandardScaler or MinMaxScaler.\n",
      "  warnings.warn('Solver terminated early (max_iter=%i).'\n",
      "/opt/anaconda3/lib/python3.8/site-packages/sklearn/svm/_base.py:246: ConvergenceWarning: Solver terminated early (max_iter=50).  Consider pre-processing your data with StandardScaler or MinMaxScaler.\n",
      "  warnings.warn('Solver terminated early (max_iter=%i).'\n",
      "/opt/anaconda3/lib/python3.8/site-packages/sklearn/svm/_base.py:246: ConvergenceWarning: Solver terminated early (max_iter=50).  Consider pre-processing your data with StandardScaler or MinMaxScaler.\n",
      "  warnings.warn('Solver terminated early (max_iter=%i).'\n",
      "/opt/anaconda3/lib/python3.8/site-packages/sklearn/svm/_base.py:246: ConvergenceWarning: Solver terminated early (max_iter=50).  Consider pre-processing your data with StandardScaler or MinMaxScaler.\n",
      "  warnings.warn('Solver terminated early (max_iter=%i).'\n",
      "/opt/anaconda3/lib/python3.8/site-packages/sklearn/svm/_base.py:246: ConvergenceWarning: Solver terminated early (max_iter=50).  Consider pre-processing your data with StandardScaler or MinMaxScaler.\n",
      "  warnings.warn('Solver terminated early (max_iter=%i).'\n",
      "/opt/anaconda3/lib/python3.8/site-packages/sklearn/svm/_base.py:246: ConvergenceWarning: Solver terminated early (max_iter=50).  Consider pre-processing your data with StandardScaler or MinMaxScaler.\n",
      "  warnings.warn('Solver terminated early (max_iter=%i).'\n",
      "/opt/anaconda3/lib/python3.8/site-packages/sklearn/svm/_base.py:246: ConvergenceWarning: Solver terminated early (max_iter=50).  Consider pre-processing your data with StandardScaler or MinMaxScaler.\n",
      "  warnings.warn('Solver terminated early (max_iter=%i).'\n",
      "/opt/anaconda3/lib/python3.8/site-packages/sklearn/svm/_base.py:246: ConvergenceWarning: Solver terminated early (max_iter=50).  Consider pre-processing your data with StandardScaler or MinMaxScaler.\n",
      "  warnings.warn('Solver terminated early (max_iter=%i).'\n",
      "/opt/anaconda3/lib/python3.8/site-packages/sklearn/svm/_base.py:246: ConvergenceWarning: Solver terminated early (max_iter=50).  Consider pre-processing your data with StandardScaler or MinMaxScaler.\n",
      "  warnings.warn('Solver terminated early (max_iter=%i).'\n",
      "/opt/anaconda3/lib/python3.8/site-packages/sklearn/svm/_base.py:246: ConvergenceWarning: Solver terminated early (max_iter=50).  Consider pre-processing your data with StandardScaler or MinMaxScaler.\n",
      "  warnings.warn('Solver terminated early (max_iter=%i).'\n",
      "/opt/anaconda3/lib/python3.8/site-packages/sklearn/svm/_base.py:246: ConvergenceWarning: Solver terminated early (max_iter=50).  Consider pre-processing your data with StandardScaler or MinMaxScaler.\n",
      "  warnings.warn('Solver terminated early (max_iter=%i).'\n",
      "/opt/anaconda3/lib/python3.8/site-packages/sklearn/svm/_base.py:246: ConvergenceWarning: Solver terminated early (max_iter=50).  Consider pre-processing your data with StandardScaler or MinMaxScaler.\n",
      "  warnings.warn('Solver terminated early (max_iter=%i).'\n",
      "/opt/anaconda3/lib/python3.8/site-packages/sklearn/svm/_base.py:246: ConvergenceWarning: Solver terminated early (max_iter=50).  Consider pre-processing your data with StandardScaler or MinMaxScaler.\n",
      "  warnings.warn('Solver terminated early (max_iter=%i).'\n"
     ]
    },
    {
     "name": "stderr",
     "output_type": "stream",
     "text": [
      "/opt/anaconda3/lib/python3.8/site-packages/sklearn/svm/_base.py:246: ConvergenceWarning: Solver terminated early (max_iter=50).  Consider pre-processing your data with StandardScaler or MinMaxScaler.\n",
      "  warnings.warn('Solver terminated early (max_iter=%i).'\n",
      "/opt/anaconda3/lib/python3.8/site-packages/sklearn/svm/_base.py:246: ConvergenceWarning: Solver terminated early (max_iter=50).  Consider pre-processing your data with StandardScaler or MinMaxScaler.\n",
      "  warnings.warn('Solver terminated early (max_iter=%i).'\n",
      "/opt/anaconda3/lib/python3.8/site-packages/sklearn/svm/_base.py:246: ConvergenceWarning: Solver terminated early (max_iter=50).  Consider pre-processing your data with StandardScaler or MinMaxScaler.\n",
      "  warnings.warn('Solver terminated early (max_iter=%i).'\n",
      "/opt/anaconda3/lib/python3.8/site-packages/sklearn/svm/_base.py:246: ConvergenceWarning: Solver terminated early (max_iter=50).  Consider pre-processing your data with StandardScaler or MinMaxScaler.\n",
      "  warnings.warn('Solver terminated early (max_iter=%i).'\n",
      "/opt/anaconda3/lib/python3.8/site-packages/sklearn/svm/_base.py:246: ConvergenceWarning: Solver terminated early (max_iter=50).  Consider pre-processing your data with StandardScaler or MinMaxScaler.\n",
      "  warnings.warn('Solver terminated early (max_iter=%i).'\n",
      "/opt/anaconda3/lib/python3.8/site-packages/sklearn/svm/_base.py:246: ConvergenceWarning: Solver terminated early (max_iter=50).  Consider pre-processing your data with StandardScaler or MinMaxScaler.\n",
      "  warnings.warn('Solver terminated early (max_iter=%i).'\n",
      "/opt/anaconda3/lib/python3.8/site-packages/sklearn/svm/_base.py:246: ConvergenceWarning: Solver terminated early (max_iter=50).  Consider pre-processing your data with StandardScaler or MinMaxScaler.\n",
      "  warnings.warn('Solver terminated early (max_iter=%i).'\n",
      "/opt/anaconda3/lib/python3.8/site-packages/sklearn/svm/_base.py:246: ConvergenceWarning: Solver terminated early (max_iter=50).  Consider pre-processing your data with StandardScaler or MinMaxScaler.\n",
      "  warnings.warn('Solver terminated early (max_iter=%i).'\n",
      "/opt/anaconda3/lib/python3.8/site-packages/sklearn/svm/_base.py:246: ConvergenceWarning: Solver terminated early (max_iter=50).  Consider pre-processing your data with StandardScaler or MinMaxScaler.\n",
      "  warnings.warn('Solver terminated early (max_iter=%i).'\n",
      "/opt/anaconda3/lib/python3.8/site-packages/sklearn/svm/_base.py:246: ConvergenceWarning: Solver terminated early (max_iter=50).  Consider pre-processing your data with StandardScaler or MinMaxScaler.\n",
      "  warnings.warn('Solver terminated early (max_iter=%i).'\n",
      "/opt/anaconda3/lib/python3.8/site-packages/sklearn/svm/_base.py:246: ConvergenceWarning: Solver terminated early (max_iter=50).  Consider pre-processing your data with StandardScaler or MinMaxScaler.\n",
      "  warnings.warn('Solver terminated early (max_iter=%i).'\n",
      "/opt/anaconda3/lib/python3.8/site-packages/sklearn/svm/_base.py:246: ConvergenceWarning: Solver terminated early (max_iter=50).  Consider pre-processing your data with StandardScaler or MinMaxScaler.\n",
      "  warnings.warn('Solver terminated early (max_iter=%i).'\n",
      "/opt/anaconda3/lib/python3.8/site-packages/sklearn/svm/_base.py:246: ConvergenceWarning: Solver terminated early (max_iter=50).  Consider pre-processing your data with StandardScaler or MinMaxScaler.\n",
      "  warnings.warn('Solver terminated early (max_iter=%i).'\n",
      "/opt/anaconda3/lib/python3.8/site-packages/sklearn/svm/_base.py:246: ConvergenceWarning: Solver terminated early (max_iter=50).  Consider pre-processing your data with StandardScaler or MinMaxScaler.\n",
      "  warnings.warn('Solver terminated early (max_iter=%i).'\n",
      "/opt/anaconda3/lib/python3.8/site-packages/sklearn/svm/_base.py:246: ConvergenceWarning: Solver terminated early (max_iter=50).  Consider pre-processing your data with StandardScaler or MinMaxScaler.\n",
      "  warnings.warn('Solver terminated early (max_iter=%i).'\n",
      "/opt/anaconda3/lib/python3.8/site-packages/sklearn/svm/_base.py:246: ConvergenceWarning: Solver terminated early (max_iter=50).  Consider pre-processing your data with StandardScaler or MinMaxScaler.\n",
      "  warnings.warn('Solver terminated early (max_iter=%i).'\n",
      "/opt/anaconda3/lib/python3.8/site-packages/sklearn/svm/_base.py:246: ConvergenceWarning: Solver terminated early (max_iter=50).  Consider pre-processing your data with StandardScaler or MinMaxScaler.\n",
      "  warnings.warn('Solver terminated early (max_iter=%i).'\n",
      "/opt/anaconda3/lib/python3.8/site-packages/sklearn/svm/_base.py:246: ConvergenceWarning: Solver terminated early (max_iter=50).  Consider pre-processing your data with StandardScaler or MinMaxScaler.\n",
      "  warnings.warn('Solver terminated early (max_iter=%i).'\n",
      "/opt/anaconda3/lib/python3.8/site-packages/sklearn/svm/_base.py:246: ConvergenceWarning: Solver terminated early (max_iter=50).  Consider pre-processing your data with StandardScaler or MinMaxScaler.\n",
      "  warnings.warn('Solver terminated early (max_iter=%i).'\n",
      "/opt/anaconda3/lib/python3.8/site-packages/sklearn/svm/_base.py:246: ConvergenceWarning: Solver terminated early (max_iter=50).  Consider pre-processing your data with StandardScaler or MinMaxScaler.\n",
      "  warnings.warn('Solver terminated early (max_iter=%i).'\n"
     ]
    }
   ],
   "source": [
    "from sklearn.multiclass import OneVsOneClassifier\n",
    "from sklearn.svm import SVC\n",
    "\n",
    "clf = OneVsOneClassifier(SVC(random_state=0, max_iter=50)).fit(X_train, y_train.argmax(axis=1))"
   ]
  },
  {
   "cell_type": "code",
   "execution_count": 15,
   "metadata": {},
   "outputs": [],
   "source": [
    "def convert2onehot(y_pred):\n",
    "    y_new = []\n",
    "    for chromNum in y_pred:\n",
    "        tempAr = np.zeros(22)\n",
    "        tempAr[chromNum] = 1\n",
    "        y_new.append(tempAr)\n",
    "    return np.array(y_new)"
   ]
  },
  {
   "cell_type": "code",
   "execution_count": 16,
   "metadata": {},
   "outputs": [],
   "source": [
    "import pyreadr\n",
    "\n",
    "result = pyreadr.read_r('pfocr_figures.rds') # also works for RData"
   ]
  },
  {
   "cell_type": "code",
   "execution_count": 28,
   "metadata": {},
   "outputs": [
    {
     "name": "stdout",
     "output_type": "stream",
     "text": [
      "(None,                                             figid       pmcid  \\\n",
      "0      PMC5653847__41598_2017_14124_Fig8_HTML.jpg  PMC5653847   \n",
      "1                PMC4187043__zh20191474070013.jpg  PMC4187043   \n",
      "2                PMC5746550__rsob-7-170228-g1.jpg  PMC5746550   \n",
      "3               PMC4211692__pone.0110875.g008.jpg  PMC4211692   \n",
      "4                    PMC2588433__nihms78212f8.jpg  PMC2588433   \n",
      "...                                           ...         ...   \n",
      "64638            PMC4216988__zh20221474360006.jpg  PMC4216988   \n",
      "64639               PMC2873070__nihms128887f5.jpg  PMC2873070   \n",
      "64640        PMC3651446__pnas.1220523110fig06.jpg  PMC3651446   \n",
      "64641       PMC6770832__cancers-11-01236-g005.jpg  PMC6770832   \n",
      "64642   PMC4609065__12885_2015_1721_Fig5_HTML.jpg  PMC4609065   \n",
      "\n",
      "                             filename    number  year  pathway_score  \\\n",
      "0      41598_2017_14124_Fig8_HTML.jpg  Figure 8  2017       0.968270   \n",
      "1                zh20191474070013.jpg   Fig. 13  2014       0.965793   \n",
      "2                rsob-7-170228-g1.jpg  Figure 1  2017       0.962470   \n",
      "3               pone.0110875.g008.jpg  Figure 8  2014       0.966721   \n",
      "4                    nihms78212f8.jpg  Figure 8   NaN       0.966758   \n",
      "...                               ...       ...   ...            ...   \n",
      "64638            zh20221474360006.jpg    Fig. 6  2014       0.143076   \n",
      "64639               nihms128887f5.jpg  Scheme 1   NaN       0.127176   \n",
      "64640        pnas.1220523110fig06.jpg    Fig. 6  2013       0.055546   \n",
      "64641       cancers-11-01236-g005.jpg  Figure 5  2019       0.140041   \n",
      "64642   12885_2015_1721_Fig5_HTML.jpg    Fig. 5  2015       0.090798   \n",
      "\n",
      "       pmc_ranked_result_index  \\\n",
      "0                       133303   \n",
      "1                        79929   \n",
      "2                        98034   \n",
      "3                       142401   \n",
      "4                        67398   \n",
      "...                        ...   \n",
      "64638                   108774   \n",
      "64639                   143547   \n",
      "64640                   159643   \n",
      "64641                      618   \n",
      "64642                    20865   \n",
      "\n",
      "                                                 figlink  \\\n",
      "0                  /pmc/articles/PMC5653847/figure/Fig8/   \n",
      "1                   /pmc/articles/PMC4187043/figure/F13/   \n",
      "2          /pmc/articles/PMC5746550/figure/RSOB170228F1/   \n",
      "3      /pmc/articles/PMC4211692/figure/pone-0110875-g...   \n",
      "4                    /pmc/articles/PMC2588433/figure/F8/   \n",
      "...                                                  ...   \n",
      "64638                /pmc/articles/PMC4216988/figure/F6/   \n",
      "64639                /pmc/articles/PMC2873070/figure/F5/   \n",
      "64640             /pmc/articles/PMC3651446/figure/fig06/   \n",
      "64641  /pmc/articles/PMC6770832/figure/cancers-11-012...   \n",
      "64642              /pmc/articles/PMC4609065/figure/Fig5/   \n",
      "\n",
      "                                                source_f type.man  \\\n",
      "0      ../data/images/PMC5653847__41598_2017_14124_Fi...      NaN   \n",
      "1        ../data/images/PMC4187043__zh20191474070013.jpg      NaN   \n",
      "2        ../data/images/PMC5746550__rsob-7-170228-g1.jpg      NaN   \n",
      "3       ../data/images/PMC4211692__pone.0110875.g008.jpg      NaN   \n",
      "4            ../data/images/PMC2588433__nihms78212f8.jpg      NaN   \n",
      "...                                                  ...      ...   \n",
      "64638    ../data/images/PMC4216988__zh20221474360006.jpg  pathway   \n",
      "64639       ../data/images/PMC2873070__nihms128887f5.jpg  pathway   \n",
      "64640  ../data/images/PMC3651446__pnas.1220523110fig0...  pathway   \n",
      "64641  ../data/images/PMC6770832__cancers-11-01236-g0...  pathway   \n",
      "64642  ../data/images/PMC4609065__12885_2015_1721_Fig...  pathway   \n",
      "\n",
      "       automl_index                                            reftext  \\\n",
      "0              3012   Céline Barthelemy, et al. Sci Rep. 2017;7:13816.   \n",
      "1              4323  Yuan Wei, et al. Am J Physiol Renal Physiol. 2...   \n",
      "2              6334  Georgia R. Frost, et al. Open Biol. 2017 Dec;7...   \n",
      "3              3808  Enida Gjoni, et al. PLoS One. 2014;9(10):e110875.   \n",
      "4              3790  Amanda L. Lewis, et al. J Biol Chem. ;282(38):...   \n",
      "...             ...                                                ...   \n",
      "64638         77324  Marcelo D. Carattino, et al. Am J Physiol Rena...   \n",
      "64639         78813  Hua Cheng, et al. Neurobiol Aging. ;31(7):1188...   \n",
      "64640        114977  Jiun-Ming Wu, et al. Proc Natl Acad Sci U S A....   \n",
      "64641         77606  Carmel Mothersill, et al. Cancers (Basel). 201...   \n",
      "64642         84038    Hiro Takahashi, et al. BMC Cancer. 2015;15:718.   \n",
      "\n",
      "                                                figtitle  \\\n",
      "0      Model of FTY720-induced transporter endocytosi...   \n",
      "1      Proposed signaling pathway by which the stimul...   \n",
      "2                                          Aβ production   \n",
      "3                                                    NaN   \n",
      "4                                                    NaN   \n",
      "...                                                  ...   \n",
      "64638  Hypothetical mechanism of activation of ENaC b...   \n",
      "64639  A schematic diagram of a proposed working mode...   \n",
      "64640  Models for nucleation of centrosomal and kinet...   \n",
      "64641  A simplified TGFβ pathway leading to p21 expre...   \n",
      "64642  Hypothetical model of EGFR and ANXA3 to fluoro...   \n",
      "\n",
      "                                              papertitle  \\\n",
      "0      FTY720-induced endocytosis of yeast and human ...   \n",
      "1      Angiotensin II type 2 receptor regulates ROMK-...   \n",
      "2      The role of astrocytes in amyloid production a...   \n",
      "3      Glucolipotoxicity Impairs Ceramide Flow from t...   \n",
      "4      NeuA sialic acid O-acetylesterase activity mod...   \n",
      "...                                                  ...   \n",
      "64638  Prostasin interacts with the epithelial Na+ ch...   \n",
      "64639  Apolipoprotein E mediates sulfatide depletion ...   \n",
      "64640  Aurora kinase inhibitors reveal mechanisms of ...   \n",
      "64641  Relevance of Non-Targeted Effects for Radiothe...   \n",
      "64642  Construction of possible integrated predictive...   \n",
      "\n",
      "                                                 caption  \n",
      "0      Model of FTY720-induced transporter endocytosi...  \n",
      "1      Proposed signaling pathway by which the stimul...  \n",
      "2      Aβ production. In the amyloidogenic pathway (r...  \n",
      "3      Glucolipotoxicity impairs CERT- and vesicular-...  \n",
      "4      Bacterial Sia biosynthesis can be divided into...  \n",
      "...                                                  ...  \n",
      "64638  Hypothetical mechanism of activation of ENaC b...  \n",
      "64639  A schematic diagram of a proposed working mode...  \n",
      "64640  Models for nucleation of centrosomal and kinet...  \n",
      "64641  A simplified TGFβ pathway leading to p21 expre...  \n",
      "64642  Hypothetical model of EGFR and ANXA3 to fluoro...  \n",
      "\n",
      "[64643 rows x 15 columns])\n"
     ]
    }
   ],
   "source": [
    "for item in result.items():\n",
    "    caps = item[1]['caption']\n",
    "    print(item)\n",
    "caps.to_csv('pfocr_captions.csv')"
   ]
  },
  {
   "cell_type": "code",
   "execution_count": 21,
   "metadata": {},
   "outputs": [
    {
     "name": "stdout",
     "output_type": "stream",
     "text": [
      "Model of FTY720-induced transporter endocytosis in yeast and human cells. (A) In yeast, exogenously supplied FTY720 molecules insert into the plasma membrane, thereby causing a decrease of the intrinsic activity of nutrient transporters, including amino acid permeases. The resulting decrease of nutrient uptake causes inhibition of the TORC1 kinase complex. This elicits activation of an unknown mechanism which then somehow stimulates the ability of the α-arrestin-family adaptor proteins and the Rsp5 ubiquitin ligase to promote permease ubiquitylation, triggering permease sorting into the endocytic pathway. (B) In mammalian cells, mTORC1 is regulated by nutrient availability and growth factors (GF). Addition of FTY720 similarly alters the inherent activity of nutrient transporters, including LAT1/SLC7A5, thereby causing mTORC1 inhibition. This reduced mTORC1 signaling contributes to stimulation of a mechanism involving a PP2A phosphatase which can activate a machinery, possibly dependent on ubiquitin, which promotes the endocytosis of nutrient transporters, including LAT1/SLC7A5. The signaling pathway responding to GFs also influences the cell-surface stability of nutrient transporters by regulating both mTORC1 and the PP2A-dependent mechanism under mTORC1 control. The presence of FTY720 inhibits both GF-dependent functions (via a mechanism involving a PP2A phosphatase), thereby contributing further to stimulation of transporter endocytosis.\n"
     ]
    },
    {
     "ename": "NameError",
     "evalue": "name 'asda' is not defined",
     "output_type": "error",
     "traceback": [
      "\u001b[0;31m---------------------------------------------------------------------------\u001b[0m",
      "\u001b[0;31mNameError\u001b[0m                                 Traceback (most recent call last)",
      "\u001b[0;32m<ipython-input-21-832a6afd0f00>\u001b[0m in \u001b[0;36m<module>\u001b[0;34m\u001b[0m\n\u001b[1;32m      4\u001b[0m \u001b[0;31m#     asda\u001b[0m\u001b[0;34m\u001b[0m\u001b[0;34m\u001b[0m\u001b[0;34m\u001b[0m\u001b[0m\n\u001b[1;32m      5\u001b[0m     \u001b[0mcapLengths\u001b[0m\u001b[0;34m.\u001b[0m\u001b[0mappend\u001b[0m\u001b[0;34m(\u001b[0m\u001b[0mlen\u001b[0m\u001b[0;34m(\u001b[0m\u001b[0mcaption\u001b[0m\u001b[0;34m)\u001b[0m\u001b[0;34m)\u001b[0m\u001b[0;34m\u001b[0m\u001b[0;34m\u001b[0m\u001b[0m\n\u001b[0;32m----> 6\u001b[0;31m     \u001b[0masda\u001b[0m\u001b[0;34m\u001b[0m\u001b[0;34m\u001b[0m\u001b[0m\n\u001b[0m\u001b[1;32m      7\u001b[0m \u001b[0;31m#     if ind<23:\u001b[0m\u001b[0;34m\u001b[0m\u001b[0;34m\u001b[0m\u001b[0;34m\u001b[0m\u001b[0m\n\u001b[1;32m      8\u001b[0m \u001b[0;31m#         print(caption)\u001b[0m\u001b[0;34m\u001b[0m\u001b[0;34m\u001b[0m\u001b[0;34m\u001b[0m\u001b[0m\n",
      "\u001b[0;31mNameError\u001b[0m: name 'asda' is not defined"
     ]
    }
   ],
   "source": [
    "capLengths = []\n",
    "for caption in caps['caption']:\n",
    "    print(caption)\n",
    "#     asda\n",
    "    capLengths.append(len(caption))\n",
    "    asda\n",
    "#     if ind<23:\n",
    "#         print(caption)\n",
    "#         print('\\n')"
   ]
  },
  {
   "cell_type": "code",
   "execution_count": 14,
   "metadata": {},
   "outputs": [
    {
     "data": {
      "image/png": "[encoded data removed]",
      "text/plain": [
       "<Figure size 720x360 with 1 Axes>"
      ]
     },
     "metadata": {
      "needs_background": "light"
     },
     "output_type": "display_data"
    },
    {
     "name": "stdout",
     "output_type": "stream",
     "text": [
      "DescribeResult(nobs=64643, minmax=(2, 2), mean=2.0, variance=0.0, skewness=0.0, kurtosis=-3.0)\n"
     ]
    }
   ],
   "source": [
    "from scipy import stats\n",
    "\n",
    "plt.figure(figsize=(10,5))\n",
    "plt.hist(capLengths,bins=50)\n",
    "plt.xlabel('Caption Length')\n",
    "plt.ylabel('Frequency')\n",
    "plt.show()\n",
    "\n",
    "print(stats.describe(capLengths))"
   ]
  },
  {
   "cell_type": "code",
   "execution_count": 34,
   "metadata": {},
   "outputs": [],
   "source": [
    "caps = pd.read_csv('pfocr_captions.csv')"
   ]
  },
  {
   "cell_type": "code",
   "execution_count": 35,
   "metadata": {},
   "outputs": [
    {
     "name": "stderr",
     "output_type": "stream",
     "text": [
      "100%|██████████| 64643/64643 [00:03<00:00, 17167.90it/s]\n"
     ]
    }
   ],
   "source": [
    "import re\n",
    "\n",
    "captionList = []\n",
    "for caption in tqdm.tqdm(caps['caption']):\n",
    "    if type(caption) == str: # some numeric captions break this\n",
    "        caption = caption.replace('-', ' ') # removing hyphens\n",
    "        postCaption = re.sub(r'[^\\w\\s]+', '', caption) #removing punctuations\n",
    "        postCaption = postCaption.upper()\n",
    "        captionList.append(postCaption.split(' '))"
   ]
  },
  {
   "cell_type": "code",
   "execution_count": 36,
   "metadata": {},
   "outputs": [
    {
     "name": "stderr",
     "output_type": "stream",
     "text": [
      "100%|██████████| 64578/64578 [00:02<00:00, 25607.15it/s]\n"
     ]
    }
   ],
   "source": [
    "from collections import Counter\n",
    "\n",
    "wordCounter = Counter()\n",
    "for wordList in tqdm.tqdm(captionList):\n",
    "    for word in wordList:\n",
    "        wordCounter[word] += 1\n"
   ]
  },
  {
   "cell_type": "code",
   "execution_count": 37,
   "metadata": {},
   "outputs": [],
   "source": [
    "def removeWordCriteria(word,frequency):\n",
    "    if frequency < 4:\n",
    "        return True\n",
    "    if frequency > 38000: # misc words like 'that','the','a',...etc\n",
    "        return True\n",
    "    if len(word) < 4: # meaningless words that are 3 letters long\n",
    "        return True\n",
    "    return False"
   ]
  },
  {
   "cell_type": "code",
   "execution_count": 38,
   "metadata": {},
   "outputs": [
    {
     "name": "stdout",
     "output_type": "stream",
     "text": [
      "Most Frequent words: \n",
      "[('PROTEINS', 19795), ('BE', 20197), ('AN', 20486), ('B', 20763), ('3', 20778), ('ALSO', 21705), ('2', 21849), ('CAN', 23128), ('THROUGH', 23873), ('THIS', 24947), ('RECEPTOR', 25179), ('GENES', 25408), ('ON', 26003), ('KINASE', 26534), ('PATHWAYS', 27164), ('EXPRESSION', 27434), ('FROM', 31179), ('OR', 33670), ('CELLS', 33932), ('CELL', 36110), ('1', 36908), ('PROTEIN', 37839), ('THAT', 39442), ('ACTIVATION', 39617), ('WHICH', 40533), ('AS', 42759), ('FOR', 46379), ('SIGNALING', 46847), ('WITH', 49376), ('ARE', 55800), ('', 73917), ('IS', 84080), ('BY', 92493), ('PATHWAY', 93041), ('A', 95493), ('TO', 154204), ('IN', 192584), ('AND', 282527), ('OF', 307634), ('THE', 426569)]\n",
      "Total word count:  158328\n",
      "Words to remove:   120214\n"
     ]
    }
   ],
   "source": [
    "freq = list(wordCounter.items())\n",
    "freq.sort(key=lambda x: x[1])\n",
    "print('Least frequent words: ')\n",
    "print(freq[:40])\n",
    "\n",
    "print('Most Frequent words: ')\n",
    "print(freq[-40:])\n",
    "print('Total word count: ',len(freq))\n",
    "\n",
    "removableWords = []\n",
    "wordsRemovalCount = 0\n",
    "for pair in freq:\n",
    "    if removeWordCriteria(pair[0],pair[1]):\n",
    "        wordsRemovalCount += 1\n",
    "        removableWords.append(pair[0])\n",
    "        \n",
    "removableWords = set(removableWords)\n",
    "print('Words to remove:  ',wordsRemovalCount)"
   ]
  },
  {
   "cell_type": "code",
   "execution_count": 39,
   "metadata": {},
   "outputs": [
    {
     "name": "stderr",
     "output_type": "stream",
     "text": [
      "100%|██████████| 64578/64578 [00:01<00:00, 43619.46it/s]"
     ]
    },
    {
     "name": "stdout",
     "output_type": "stream",
     "text": [
      "[['MODEL', 'FTY720', 'INDUCED', 'TRANSPORTER', 'ENDOCYTOSIS', 'YEAST', 'HUMAN', 'CELLS', 'YEAST', 'EXOGENOUSLY', 'SUPPLIED', 'FTY720', 'MOLECULES', 'INSERT', 'INTO', 'PLASMA', 'MEMBRANE', 'THEREBY', 'CAUSING', 'DECREASE', 'INTRINSIC', 'ACTIVITY', 'NUTRIENT', 'TRANSPORTERS', 'INCLUDING', 'AMINO', 'ACID', 'PERMEASES', 'RESULTING', 'DECREASE', 'NUTRIENT', 'UPTAKE', 'CAUSES', 'INHIBITION', 'TORC1', 'KINASE', 'COMPLEX', 'THIS', 'ELICITS', 'UNKNOWN', 'MECHANISM', 'THEN', 'SOMEHOW', 'STIMULATES', 'ABILITY', 'ARRESTIN', 'FAMILY', 'ADAPTOR', 'PROTEINS', 'RSP5', 'UBIQUITIN', 'LIGASE', 'PROMOTE', 'PERMEASE', 'UBIQUITYLATION', 'TRIGGERING', 'PERMEASE', 'SORTING', 'INTO', 'ENDOCYTIC', 'MAMMALIAN', 'CELLS', 'MTORC1', 'REGULATED', 'NUTRIENT', 'AVAILABILITY', 'GROWTH', 'FACTORS', 'ADDITION', 'FTY720', 'SIMILARLY', 'ALTERS', 'INHERENT', 'ACTIVITY', 'NUTRIENT', 'TRANSPORTERS', 'INCLUDING', 'THEREBY', 'CAUSING', 'MTORC1', 'INHIBITION', 'THIS', 'REDUCED', 'MTORC1', 'CONTRIBUTES', 'STIMULATION', 'MECHANISM', 'INVOLVING', 'PP2A', 'PHOSPHATASE', 'ACTIVATE', 'MACHINERY', 'POSSIBLY', 'DEPENDENT', 'UBIQUITIN', 'PROMOTES', 'ENDOCYTOSIS', 'NUTRIENT', 'TRANSPORTERS', 'INCLUDING', 'RESPONDING', 'ALSO', 'INFLUENCES', 'CELL', 'SURFACE', 'STABILITY', 'NUTRIENT', 'TRANSPORTERS', 'REGULATING', 'BOTH', 'MTORC1', 'PP2A', 'DEPENDENT', 'MECHANISM', 'UNDER', 'MTORC1', 'CONTROL', 'PRESENCE', 'FTY720', 'INHIBITS', 'BOTH', 'DEPENDENT', 'FUNCTIONS', 'MECHANISM', 'INVOLVING', 'PP2A', 'PHOSPHATASE', 'THEREBY', 'CONTRIBUTING', 'FURTHER', 'STIMULATION', 'TRANSPORTER', 'ENDOCYTOSIS'], ['PROPOSED', 'STIMULATORY', 'EFFECT', 'ROMK', 'CHANNEL', 'ACTIVITY', 'RATS', 'MEDIATED', 'AT2RS', 'AT2RS', 'COOPERATE', 'RENAL', 'REGULATION', 'EXCRETION', 'INHIBITS', 'ROMK', 'CHANNELS', 'RATS', 'PREVIOUSLY', 'REPORTED', 'PROTEIN', 'TYROSINE', 'KINASE', 'PHOSPHOLIPASE'], ['PRODUCTION', 'AMYLOIDOGENIC', 'RIGHT', 'CLEAVED', 'BACE', 'FOLLOWED', 'SECRETASE', 'RELEASES', 'PEPTIDES', 'INTRACELLULAR', 'DOMAIN', 'AICD', 'GENERATE', 'TERMINI', 'RESPECTIVELY', 'AMYLOIDOGENIC', 'LEFT', 'CLEAVED', 'SEQUENTIALLY', 'SECRETASE', 'SECRETASE', 'DOES', 'RESULT', 'GENERATION', 'SPECIES'], ['GLUCOLIPOTOXICITY', 'IMPAIRS', 'CERT', 'VESICULAR', 'MEDIATED', 'TRAFFIC', 'GLUCOLIPOTOXICITY', 'DECREASE', 'AMOUNT', 'ACTIVE', 'CERT', 'SIGNIFICANTLY', 'DECREASING', 'TOTAL', 'AMOUNT', 'PROTEIN', 'PHOSPHORYLATION', 'CERT', 'MOTIF', 'LONGER', 'ABLE', 'LOCALIZE', 'GOLGI', 'APPARATUS', 'MOREOVER', 'GLUCOLIPOTOXICITY', 'INHIBITS', 'PI3KAKT', 'COULD', 'TURN', 'IMPAIRS', 'VESICULAR', 'TRAFFICKING', 'FROM', 'GOLGI', 'APPARATUS', 'BOTH', 'TRANSPORT', 'SYSTEMS', 'CONTRIBUTE', 'ACCUMULATION', 'THEREBY', 'INDUCING', 'STRESS', 'FURTHERMORE', 'CERAMIDE', 'SYNTHASE', 'SERINE', 'PALMITOYLTRANSFERASE', 'BOTH', 'RESIDING', 'ENDOPLASMIC', 'RETICULUM', 'HAVE', 'BEEN', 'SHOWN', 'INVOLVED', 'REGULATING', 'LEVELS', 'CELLS', 'RESPONSE', 'LIPOTOXICITY', 'ANDOR', 'GLUCOLIPOTOXICITY'], ['BACTERIAL', 'BIOSYNTHESIS', 'DIVIDED', 'INTO', 'THREE', 'MAIN', 'PARTS', 'BIOSYNTHESIS', 'DEGRADATION', 'INTRACELLULAR', 'ACETYLATION', 'ACETYLATION', 'POLYSACCHARIDE', 'BIOSYNTHESIS', 'POLYMERIZATION', 'ACETYLATION', 'SIMPLICITY', 'ONLY', 'SHOWN', 'ABOVE', 'BELOW', 'DOTTED', 'LINE', 'RESPECTIVELY', 'RESPECT', 'THESE', 'EXPRESSING', 'PATHOGENS', 'HOMOLOGOUS', 'ENZYME', 'GENERATE', 'ACETYLMANNOSAMINE', 'MANNAC', 'EPIMERIZATION', 'ACETYLGLUCOSAMINE', 'CONDENSE', 'PHOSPHOENOLPYRUVATE', 'MANNAC', 'GENERATE', 'ACETYLNEURAMINIC', 'ACID', 'NEU5AC', 'THEN', 'ACTIVATE', 'NEU5AC', 'TRANSFER', 'ANOMERIC', 'OXYGEN', 'PHOSPHATE', 'ONLY', 'COLI', 'POSSESSES', 'DEGRADATION', 'MACHINERY', 'ENCODE', 'SIALYLTRANSFERASE', 'REPEATING', 'UNIT', 'POLYMERASE', 'RESPECTIVELY', 'INTRACELLULAR', 'ACETYLATION', 'ACETYLATION', 'LIMITED', 'COLI', 'BOTH', 'POSSESS', 'ACETYLTRANSFERASE', 'NEUA', 'ACETYL', 'ESTERASE', 'MENINGITIDIS', 'MORE', 'STREAM', 'LINED', 'APPEARANCE', 'LACK', 'ENDOGENOUS', 'ACETYLATION', 'CYCLE', 'DESPITE', 'PRONOUNCED', 'DIFFERENCE', 'BETWEEN', 'MENINGITIDIS', 'COLI', 'INTRACELLULAR', 'ACETYLATION', 'CYCLING', 'THESE', 'PATHOGENS', 'SHARE', 'IDENTICAL', 'POLY', 'ANTIGEN', 'MADE', 'LINKED', 'NEU5AC', 'RESIDUES', 'POLYMERIZED', 'RESPECTIVELY', 'ACETYLATED', 'AFTER', 'CAPSULE', 'POLYMERIZATION', 'RESPECTIVELY', 'TEXT', 'FURTHER', 'DISCUSSION', 'MODEL', 'BASED', 'REFERENCES'], ['SCHEMATIC', 'TRANSPORT', 'CYCLE', 'KINETIC', 'SCHEME', 'SUBSTRATE', 'INTERACTION', 'EITHER', 'OUTWARD', 'INWARD', 'FACING', 'TRANSPORTER', 'SUBSTRATES', 'SUBSTRATES', 'EITHER', 'PHYSIOLOGICAL', 'SUBSTRATES', 'SUCH', 'MONOAMINES', 'SUBSTRATES', 'SODIUM', 'CHLORIDE', 'THERE', 'SEVERAL', 'ADDITIONAL', 'REACTIONS', 'OTHER', 'WORDS', 'SEQUENTIAL', 'BINDING', 'IONS', 'CHLORIDE', 'SUBSTRATE', 'OUTWARD', 'FACING', 'CONFORMATION', 'CORRESPONDING', 'RELEASE', 'STEPS', 'FROM', 'INWARD', 'FACING', 'CONFORMATION', 'MORE', 'DETAILED', 'MODEL', 'THESE', 'HAVE', 'BEEN', 'OMITTED', 'SAKE', 'CLARITY', 'TRANSPORTER', 'SWITCHES', 'FROM', 'OUTWARD', 'INWARD', 'FACING', 'CONFORMATION', 'OCCLUDED', 'STATE', 'SEROTONIN', 'TRANSPORTER', 'SERT', 'RETURN', 'THROUGH', 'OCCLUDED', 'EMPTY', 'STATE', 'CONTINGENT', 'BINDING', 'SYMBOLIZED', 'BRACKETS', 'CONDUCTING', 'STATE', 'ACHIEVED', 'INWARD', 'FACING', 'CONFORMATION', 'PRESENCE', 'AMPHETAMINE', 'SUPPLIED', 'INTERNAL', 'SUBSTRATE', 'ELEVATED', 'INTERNAL', 'SODIUM', 'TRANSPORTER', 'RELEASES', 'SUBSTRATE', 'RUNNING', 'BACKWARDS', 'THROUGH', 'CYCLE', 'REACTION', 'INDICATED', 'ARROWS', 'BURST', 'LIKE', 'DOPAMINE', 'EVENTS', 'HAVE', 'BEEN', 'RECORDED', 'COLLEAGUES', 'THEIR', 'RELATION', 'TRANSPORT', 'CYCLE', 'UNCLEAR', 'INDICATED', 'DASHED', 'ARROW', 'LEFT', 'HAND', 'SIDE'], ['MITOCHONDRIAL', 'QUALITY', 'CONTROL', 'MEDIATED', 'PINK1', 'PARKIN', 'LOSS', 'EITHER', 'PROTEIN', 'LEADS', 'EARLY', 'ONSET', 'FORMS', 'PARKINSONS', 'DISEASE', 'RECENT', 'REPORTS', 'FROM', 'THREE', 'GROUPS', 'HAVE', 'SHOWN', 'PHOSPHORYLATED', 'UBIQUITIN', 'INTERMEDIATE'], ['SCHEMATIC', 'SUMMARY', 'POSSIBLE', 'LOCALIZATION', 'ARRESTIN', 'RELATED', 'WINGLESS', 'FROM', 'DROSOPHILA', 'ONCOGENE', 'SIGNALLING', 'CELLS', 'UNSTIMULATED', 'CELLS', 'ARRESTIN', 'EVENLY', 'DISTRIBUTED', 'CYTOSOL', 'WHEN', 'DISHEVELLED', 'PRESENT', 'LOCALIZES', 'AGGREGATES', 'UPON', 'PHOSPHORYLATION', 'CASEIN', 'KINASE', 'CK1Ε', 'ARRESTIN', 'BECOMES', 'CYTOSOLIC', 'AGAIN', 'PRESENCE', 'FRIZZLED', 'RECEPTOR', 'TYROSINE', 'KINASE', 'ANDOR', 'PAR1', 'ARRESTINS', 'RECRUITED', 'PLASMA', 'MEMBRANE', 'FURTHER', 'ASSOCIATION', 'CLATHRIN', 'COATED', 'PITS', 'UPON', 'LIGAND', 'BINDING', 'SUBSEQUENTLY', 'LIGAND', 'RECEPTOR', 'ARRESTIN', 'COMPLEX', 'INTERNALIZED', 'THROUGH', 'ENDOSOMAL', 'INSERT', 'SHOWS', 'MOUSE', 'EMBRYONIC', 'FIBROBLAST', 'EXPRESSING', 'ARRESTIN', 'GREEN'], ['REGULATION', 'TYPE', 'VGCC', 'NEUROSTEROIDS', 'PREGS', 'DIRECT', 'INTERACTION', 'EXTRACELLULAR', 'DOMAIN', 'TYPE', 'VGCC', 'INCREASE', 'INFLUX', 'CONCENTRATION', 'DEPENDENT', 'MANNER', 'ESTRADIOL', 'EXERTS', 'INHIBITORY', 'EFFECT', 'ALLOPREGNANOLONE', 'MODIFIES', 'TYPE', 'VGCC', 'FUNCTION', 'ACTING', 'MEDIATED'], ['CYTOKINE', 'STAT3', 'GATEWAY', 'SECOND', 'PHASE', 'IMMUNOLOGICALLY', 'MEDIATED', 'ONCOGENESIS', 'NUMBER', 'CYTOKINES', 'MOST', 'NOTABLY', 'INDUCED', 'UPSTREAM', 'INFLAMMATORY', 'FACTORS', 'ACTIVATE', 'STAT3', 'TH17', 'RESPONSES', 'POSSIBLY', 'INDUCED', 'BACTERIA', 'MICROBIOME', 'IMPORTANT', 'INITIATORS', 'PRODUCTION', 'HOWEVER', 'THERE', 'RECENT', 'EVIDENCE', 'SUCH', 'FAVORED', 'PRESENCE', 'PARTICULAR', 'PATHOGENIC', 'MEMBERS', 'MICROBIOME'], ['DYSREGULATION', 'GLYCOLYSIS', 'BIOENERGETIC', 'PATHWAYS', 'PBMCS', 'FROM', 'ASYMPTOMATIC', 'FXTAS', 'SYMPTOMATIC', 'PREMUTATION', 'BEARING', 'INDIVIDUALS', 'CONTROL', 'CELLS', 'GLUCOSE', 'MAINLY', 'USED', 'OXPHOS', 'FOLLOWED', 'GLYCOLYSIS', 'JUDGED', 'PRODUCTION', 'ALMOST', 'NEGLIGIBLE', 'VALUES', 'SHUNTED', 'PENTOSE', 'PHOSPHATE', 'PRODUCTION', 'MAINLY', 'DERIVED', 'FROM', 'MITOCHONDRIA', 'COMPARED', 'GLYCOLYSIS', 'FOLD', 'CELLS', 'FROM', 'PREMUTATION', 'CARRIERS', 'GLYCOLYTIC', 'FLUX', 'ENHANCED', 'GLUCOSE', 'ALSO', 'SHUNTED', 'PENTOSE', 'PHOSPHATE', 'GENERATE', 'NADPH', 'PROVIDE', 'REDUCING', 'EQUIVALENTS', 'ANTIOXIDANT', 'DEFENSES', 'SOME', 'PYRUVATE', 'DIRECTED', 'MITOCHONDRIA', 'CELLS', 'FROM', 'FXTAS', 'FREE', 'PREMUTATION', 'BECAUSE', 'HIGHER', 'UNCOUPLING', 'LOWER', 'CITRATE', 'SYNTHASE', 'THESE', 'CELLS', 'COMPARED', 'CONTROLS', 'RATIO', 'MITOCHONDRIAL', 'GLYCOLYTIC', 'PROTEOMIC', 'DATA', 'SUPPORTED', 'MORE', 'PREDOMINANT', 'ROLE', 'SECOND', 'HALF', 'KREBS', 'CYCLE', 'FROM', 'KETOGLUTARATE', 'OXALOACETATE', 'PROBABLY', 'SUSTAINED', 'ANAPLEROSIS', 'GLUGLN', 'JUDGED', 'HIGHER', 'ABUNDANCE', 'GLUTAMATE', 'DEHYDROGENASE', 'ENSUING', 'LOWER', 'PRODUCTION', 'CITRATE', 'RESULT', 'LOWER', 'FATTY', 'ACID', 'CHOLESTEROL', 'SYNTHESES', 'WELL', 'ARACHIDONATE', 'DERIVED', 'PRODUCTS', 'PROSTAGLANDINS', 'OXALOACETATE', 'WILL', 'THEN', 'USED', 'GENERATE', 'PYRUVATE', 'OTHERS', 'CASE', 'CELLS', 'FROM', 'CARRIERS', 'AFFECTED', 'FXTAS', 'MORE', 'SIGNIFICANT', 'FLUX', 'GLUCOSE', 'SHUNTED', 'PENTOSE', 'PHOSPHATE', 'HIGHER', 'ABUNDANCE', 'GLUCOSE', 'PHOSPHATE', 'DEHYDROGENASE', 'THAN', 'CONTROLS', 'FXTAS', 'FREE', 'CARRIERS', 'GLYCOLYSIS', 'HIGHER', 'LEVELS', 'GLYCOLYTIC', 'THAN', 'CONTROLS', 'THAN', 'FXTAS', 'FREE', 'CARRIERS', 'PRODUCTION', 'MAINLY', 'GLYCOLYTIC', 'RATIO', 'MITOCHONDRIAL', 'GLYCOLYTIC', 'SUPPORTED', 'HIGHER', 'UNCOUPLING', 'CONTROLS', 'FXTAS', 'FREE', 'CARRIERS', 'LOWER', 'CITRATE', 'SYNTHASE', 'CONTROLS', 'THESE', 'CELLS', 'BASED', 'PROTEOMIC', 'DATA', 'LOWER', 'OVERALL', 'KREBS', 'CYCLE', 'ACTIVITY', 'EXPECTED', 'BASED', 'FUNCTIONAL', 'DATA', 'INCREASED', 'PRODUCTION', 'MITOCHONDRIAL', 'INCREASED', 'PROTON', 'LEAK', 'TOTAL', 'LEVELS', 'VISUALIZED', 'PROPORTION', 'DERIVED', 'FROM', 'GLYCOLYSIS', 'DEPICTED', 'BLACK', 'OXPHOS', 'WHITE', 'BARS', 'REPRESENTING', 'CONTENT', 'CELLS', 'FROM', 'CARRIERS', 'CHARACTERIZED', 'PERCENTAGE', 'CONTROL', 'CELLS', 'VISUALIZE', 'LOWER', 'CONTENT', 'THESE', 'CELLS', 'CONTROLS', 'FXTAS', 'FREE', 'AFFECTED', 'CARRIERS', 'RESPECTIVELY', 'THICKER', 'THINNER', 'ARROWS', 'SYMBOLIZE', 'INCREASED', 'DECREASED', 'FLUXES', 'RESPECTIVELY', 'ABBREVIATIONS', 'OXALOACETATE', 'KETOGLUTARATE'], ['PATHWAYS', 'INVOLVED', 'FIBROBLAST', 'SENESCENCE', 'ACTIVATED', 'INDUCES', 'EXPRESSION', 'PROTEIN', 'BINDS', 'CYCLIN', 'DEPENDENT', 'KINASE', 'CDK2', 'TURN', 'IMPEDES', 'CDK2', 'FROM', 'COMPLEXING', 'CYCLIN', 'CYCLIN', 'SINCE', 'CDK2', 'CYCLIN', 'COMPLEXES', 'REQUIRED', 'REPLICATION', 'BEGIN', 'EFFECTIVELY', 'STOPS', 'CELL', 'REPLICATION', 'MDM2', 'STRONG', 'ANTAGONIST', 'ONLY', 'PREVENTS', 'PRODUCTION', 'THROUGH', 'TRANSCRIPTIONAL', 'INHIBITION', 'ALSO', 'EXPORTS', 'ACTIVE', 'FROM', 'NUCLEUS', 'TARGETS', 'PROTEOLYTIC', 'DESTRUCTION', 'THROUGH', 'UBIQUITINATION', 'TUMOR', 'SUPPRESSOR', 'PROTEIN', 'WORKS', 'UPREGULATE', 'INHIBITING', 'WHILE', 'UNPHOSPHORYLATED', 'STATE', 'SEQUESTERS', 'TRANSCRIPTION', 'FACTOR', 'RESPONSIBLE', 'INITIATING', 'REPLICATION', 'UNPHOSPHORYLATED', 'ALSO', 'INDUCES', 'FORMATION', 'SAHF', 'PREVENTS', 'FREE', 'FROM', 'COMPLEXING', 'WHEN', 'CYCLIN', 'DEPENDENT', 'KINASE', 'CDK4', 'COMPLEXES', 'CYCLIN', 'ABLE', 'PHOSPHORYLATE', 'THUS', 'RELEASING', 'ALLOWING', 'REPLICATION', 'OCCUR', 'PROTEIN', 'WORKS', 'TUMOR', 'SUPPRESSOR', 'PREVENTING', 'CDK4', 'FROM', 'COMPLEXING', 'CYCLIN'], ['PROPOSED', 'SCHEMATIC', 'VIEW', 'PROPOFOL', 'INTERFERE', 'NEURITE', 'RETRACTION', 'PROPOFOL', 'BINDS', 'GABAAR', 'CAUSES', 'NEURITE', 'RETRACTION', 'THROUGH', 'ACTIVATING', 'ACTO', 'MYOSIN', 'COMPLEX', 'BLUE', 'WHERE', 'PHOSPHORYLATION', 'MYOSIN', 'MYOSIN', 'LIGHT', 'CHAIN', 'KINASE', 'MLCK', 'CAUSES', 'CONTRACTION', 'NEURITE', 'WHEN', 'MYOSIN', 'PHOSPHORYLATED', 'MYOSIN', 'LIGHT', 'CHAIN', 'PHOSPHATASE', 'MLCP', 'NEURITE', 'EXTENDS', 'BINDS', 'ACTIVATES', 'INCREASING', 'ACTIVATES', 'PKCΕ', 'INCREASING', 'PHOSPHORYLATION', 'PKCΕ', 'ACTIVATED', 'PKCΕ', 'TRANSLOCATES', 'FROM', 'CYTOSOL', 'CELL', 'MEMBRANE', 'ACTIVATED', 'PKCΕ', 'THEN', 'INTERFERE', 'MEMBRANE', 'EFFECTOR', 'POSSIBLY', 'GABAAR', 'MIGHT', 'CAUSE', 'DECREASE', 'AMOUNT', 'GABAAR', 'CELL', 'SURFACE', 'PKCΕ', 'ALSO', 'HAVE', 'ACTIN', 'BINDING', 'MOTIF', 'COULD', 'DIRECTLY', 'INTERFERE', 'CYTOSKELETAL', 'ACTIN', 'INVOLVED', 'CONTRACTILE', 'RESPONSE', 'CAUSING', 'NEURITE', 'RETRACTION', 'PKCΕ', 'STABILIZES', 'ACTIN', 'WHEN', 'BOUND', 'THEN', 'RETRACTION', 'COULD', 'TAKE', 'PLACE', 'PROPOFOL', 'REDUCES', 'PHOSPHORYLATION', 'PKCΕ', 'BELOW', 'AMOUNT', 'UNSTIMULATED', 'CELLS', 'SUGGESTING', 'PROPOFOL', 'COUNTER', 'BALANCES', 'NORMAL', 'ACTIVITY', 'CELLULAR', 'PKCΕ', 'SIGNALLING', 'PROPOFOL', 'MIGHT', 'INCLUDE', 'INHIBITION', 'RESTORE', 'PKCΕ', 'PHOSPHORYLATION', 'EXACT', 'USED', 'DETERMINED'], ['PROPOSED', 'MODEL', 'CROSS', 'TALKS', 'AMONG', 'MAST', 'CELLS', 'CELLS', 'TUMOR', 'CELLS', 'LEADING', 'MAST', 'CELL', 'MEDIATED', 'IMMUNOSUPPRESSIVE', 'PROTUMORIGENIC', 'EFFECTS', 'MICROENVIRONMENT', 'CXCL12', 'CXCR4', 'CHEMOTAXIS', 'MEDIATES', 'RECRUITMENT', 'ACCUMULATION', 'MAST', 'CELLS', 'INTO', 'MICROENVIRONMENT', 'COULD', 'REGULATED', 'EXPRESSION', 'TUMOR', 'DERIVED', 'MAST', 'CELLS', 'INHIBIT', 'CELL', 'PROLIFERATION', 'FUNCTION', 'DEPENDENT', 'MANNER', 'PROMOTES', 'PROGRESSION'], ['BIOSENSOR', 'DERIVED', 'PROMOTERS', 'UPSTREAM', 'MODULES', 'CONTROL', 'EXPRESSION', 'FADD', 'ATFA', 'ETHANOL', 'BIOSYNTHETIC', 'ADHB', 'RESPECTIVELY', 'FADR', 'REPRESSES', 'PRODUCTION', 'ETHANOL', 'UNNECESSARY', 'FATTY', 'ACYL', 'WHEN', 'FATTY', 'ACIDS', 'CONCENTRATION', 'WHEN', 'INTRACELLULAR', 'FATTY', 'ACID', 'CONCENTRATION', 'SUFFICIENT', 'FATTY', 'ACIDS', 'WOULD', 'FIRST', 'ACTIVATED', 'FATTY', 'ACYL', 'CHROMOSOMAL', 'FADD', 'THEN', 'FATTY', 'ACYL', 'WOULD', 'RELEASE', 'FADR', 'FROM', 'BINDING', 'SITES', 'THIS', 'WOULD', 'RESULT', 'INDUCTION', 'GENES', 'ENCODE', 'ENZYMES', 'PRODUCE', 'ETHANOL', 'FADD', 'GENERATE', 'MORE', 'FATTY', 'ACYL', 'ATFA', 'CONVERT', 'ETHANOL', 'FATTY', 'ACYL', 'FAEE', 'INCREASING', 'ENZYME', 'FLUX', 'RESPONSE', 'FATTY', 'ACYL', 'REPRESENTED', 'THICKNESS', 'ARROWS', 'FATTY', 'ACID', 'SYNTHASE'], ['SCHEMATIC', 'DIAGRAM', 'TALENS', 'MEDIATED', 'GENE', 'KNOCKOUT', 'CUSTOMIZED', 'BINDING', 'DOMAIN', 'TALE', 'RECOGNIZING', 'SPECIFIC', 'GENOMIC', 'SEQUENCE', 'FUSED', 'CATALYTIC', 'DOMAIN', 'ENDONUCLEASE', 'TALEN', 'WHEN', 'PAIR', 'TALENS', 'RECOGNIZE', 'BOTTOM', 'STRANDS', 'TARGET', 'SITES', 'FLANKING', 'SPACER', 'DIMERIZES', 'CUTS', 'SPACER', 'REGION', 'CREATE', 'DOUBLE', 'STRAND', 'BREAKS', 'DSBS', 'WHEN', 'DSBS', 'GENE', 'LOCUS', 'REPAIRED', 'ERROR', 'PRONE', 'NONHOMOLOGOUS', 'JOINING', 'NHEJ', 'LEADS', 'INTRODUCTION', 'VARIABLE', 'LENGTH', 'INSERTION', 'DELETION', 'INDEL', 'MUTATIONS', 'RESULTING', 'ABLATION', 'TARGETED', 'GENE', 'FUNCTION'], ['NETWORK', 'REACTIONS', 'POTENTIALLY', 'PARTICIPATE', 'SYNTHESIS', 'FLOWERING', 'PLANTS', 'NOTE', 'BASES', 'CONVERTED', 'BASES', 'BASE', 'INTERMEDIATES', 'HAVE', 'BEEN', 'OMITTED', 'SIMPLICITY', 'ENZYMES', 'MEDIATING', 'FREE', 'BASE', 'BASE', 'METHYLATIONS', 'CYTOSOLIC', 'THOSE', 'MEDIATING', 'BASE', 'METHYLATIONS', 'MICROSOMAL', 'STEP', 'CHLOROPLASTIC', 'LEADING', 'ALSO', 'SHOWN', 'THIS', 'STEP', 'ONLY', 'PRESENT', 'CERTAIN', 'SPECIES', 'ABSENT', 'FROM', 'WILD', 'TYPE', 'TOBACCO', 'BETAINE', 'ALDEHYDE'], ['OVERVIEW', 'GENES', 'REGULATORY', 'NETWORKS', 'LEADING', 'FROM', 'POTENTIAL', 'GONAD', 'EITHER', 'TESTIS', 'OVARY', 'DEVELOPMENT', 'MOUSE', 'GENES', 'ESSENTIAL', 'DEVELOPMENT', 'POTENTIAL', 'GONAD', 'HAVE', 'BEEN', 'IDENTIFIED', 'TOTAL', 'LACK', 'GONADS', 'CORRESPONDING', 'KNOCKOUT', 'MOUSE', 'STRAIN', 'THEY', 'HAVE', 'BEEN', 'SHOWN', 'EXPRESSED', 'POTENTIAL', 'GONAD', 'FUNCTIONAL', 'STUDIES', 'REVEALED', 'SPECIFICALLY', 'ISOFORM', 'BINDS', 'ACTIVATES', 'NR5A1', 'PROMOTER', 'CONJUNCTION', 'SPLEEN', 'ADRENAL', 'GLAND', 'CBX2', 'BEEN', 'SHOWN', 'REGULATE', 'NR5A1', 'LEADING', 'HYPOTHESIS', 'SIMILAR', 'FUNCTION', 'POTENTIAL', 'GONAD', 'VARIOUS', 'GENES', 'HAVE', 'BEEN', 'IMPLICATED', 'PATHWAYS', 'LEADING', 'TESTIS', 'DEVELOPMENT', 'MOUSE', 'MOUSE', 'EMBRYOS', 'TRANSIENTLY', 'EXPRESSED', 'POTENTIAL', 'GONAD', 'WHEREAS', 'HUMAN', 'EMBRYOS', 'EXPRESSION', 'PERIODIC', 'HOWEVER', 'BOTH', 'SPECIES', 'EXPRESSION', 'INITIATES', 'INCREASE', 'SOX9', 'EXPRESSION', 'THEN', 'STIMULATES', 'FGF9', 'EXPRESSION', 'BOTH', 'FGF9', 'SOX9', 'POSITIVE', 'FEEDBACK', 'LOOP', 'SUPPRESS', 'FEMALE', 'SPECIFIC', 'GENES', 'ESPECIALLY', 'WNT4', 'SUBSEQUENTLY', 'LEAD', 'MANIFESTATION', 'TESTIS', 'SPECIFIC', 'PROGRAM', 'NUMEROUS', 'OTHER', 'GENES', 'THEIR', 'GENE', 'PRODUCTS', 'SUCH', 'GATA4', 'FOG2', 'ISOFORM', 'NR5A1', 'FGFR1', 'CBX2', 'SOX8', 'DAX1', 'NECESSARY', 'REGULATION', 'POSITIVE', 'WELL', 'NEGATIVE', 'MAINTENANCE', 'THIS', 'CRUCIAL', 'MALE', 'DETERMINING', 'DMRT1', 'RECENTLY', 'BEEN', 'SHOWN', 'REQUIRED', 'MAINTENANCE', 'GONADAL', 'ESPECIALLY', 'PREVENT', 'FEMALE', 'REPROGRAMMING', 'POSTNATAL', 'MOUSE', 'TESTIS', 'INDIVIDUALS', 'ABSENT', 'OVARY', 'SPECIFIC', 'GENES', 'SUCH', 'RSPO1', 'WNT4', 'FOXL2', 'EXPRESSED', 'RSPO1', 'OVARIES', 'SHOW', 'REDUCED', 'LEVELS', 'WNT4', 'SUGGESTING', 'RSPO1', 'ACTS', 'UPSTREAM', 'WNT4', 'HOWEVER', 'SYNERGISTIC', 'ACTION', 'WNT4', 'RSPO1', 'ACTIVATE', 'CATENIN', 'ALSO', 'BEEN', 'SUGGESTED', 'CATENIN', 'HAVE', 'BEEN', 'PROPOSED', 'SUPPRESS', 'POSITIVE', 'FEEDBACK', 'LOOP', 'ALLOWING', 'OVARIAN', 'SPECIFIC', 'PROGRESS', 'WNT4', 'FOXL2', 'ALSO', 'INVOLVED', 'POSITIVE', 'REGULATION', 'BMP2', 'TOGETHER', 'FOXL2', 'RSPO1', 'WNT4', 'ACTIVATE', 'EXPRESSION', 'GENES', 'FEMALE', 'HAVE', 'BEEN', 'SHOWN', 'SUGGESTED', 'INTERACT', 'MALE', 'SHOWN', 'GENES', 'MALE', 'INTERACTING', 'FEMALE', 'HIGHLIGHTED', 'BLUE', 'THIS', 'FIGURE', 'SOLID', 'LINES', 'NECESSARILY', 'IMPLY', 'DIRECT', 'INTERACTIONS', 'QUESTION', 'MARKS', 'INDICATE', 'POSITION', 'GENE', 'INTERACTION', 'OTHER', 'GENES', 'BEEN', 'PROPOSED', 'MANY', 'PATHWAYS', 'SHOWN', 'THIS', 'FIGURE', 'SIMILAR', 'EVEN', 'IDENTICAL', 'BETWEEN', 'MOUSE', 'HUMAN', 'HOWEVER', 'SOME', 'THEM', 'THERE', 'MIGHT', 'DIFFERENCES', 'BETWEEN', 'SPECIES'], ['SCHEMATIC', 'REPRESENTATION', 'INVOLVEMENT', 'AMPK', 'INHIBITORY', 'EFFECT', 'MEDIATED', 'MITOGENESIS', 'RESULTS', 'FROM', 'PRESENT', 'STUDY', 'SUGGEST', 'EXPOSURE', 'INCREASES', 'AMPK', 'TURN', 'REDUCES', 'MEDIATED', 'INHIBITION', 'AMPK', 'AMPK', 'ALSO', 'BLOCKS', 'MITOGENIC', 'STIMULUS', 'LEADING', 'REDUCED', 'CYCLIN', 'MRNA', 'EXPRESSION', 'THESE', 'EFFECTS', 'WELL', 'REPORTED', 'INCREASE', 'CELL', 'CYCLE', 'INHIBITOR', 'P27KIP', 'AMPK', 'MIGHT', 'PLAYING', 'SIGNIFICANT', 'ROLE', 'MEDIATED', 'INHIBITION', 'GRANULOSA', 'CELL', 'PROLIFERATION'], ['MODEL', 'BETA', 'LACTAMASE', 'INDUCTION', 'GRAM', 'NEGATIVE', 'BACTERIA', 'BETA', 'LACTAMASE', 'INDUCTION', 'MUROPEPTIDES', 'MAJOR', 'MOLECULAR', 'MECHANISMS', 'LIKE', 'COMPONENT', 'REGULATORY', 'SYSTEM', 'PRESENTED', 'COMPONENT', 'REGULATORY', 'SYSTEM', 'ONLY', 'SUPPORTED', 'LIMITED', 'STUDIES', 'DATE', 'SHOWN', 'DASHED', 'ARROWS', 'REGULATOR', 'DENOTES', 'AMPR', 'LIKE', 'REGULATOR', 'COMPONENT', 'RESPONSE', 'REGULATOR', 'BETA', 'LACTAMASE', 'DENOTES', 'BETA', 'LACTAMASE', 'SUBJECTED', 'INDUCTION', 'EXTRACELLULAR', 'ENVIRONMENT', 'OUTER', 'MEMBRANE', 'PERIPLASMIC', 'SPACE', 'INNER', 'MEMBRANE', 'CYTOPLASM'], ['SCHEMATIC', 'DIAGRAM', 'SHOWING', 'BIDIRECTIONAL', 'SIGNAL', 'TRANSDUCTION', 'CD137', 'INFLAMMATION'], ['SCHEMATIC', 'ILLUSTRATING', 'AXIS', 'PLAYS', 'ROLE', 'KERATINOCYTE', 'MIGRATION', 'EGFRERK'], ['MODEL', 'GRK1', 'MEDIATED', 'PHOTORECEPTOR', 'CELL', 'DEATH', 'PHOTOTRANSDUCTION', 'PATHWAYS', 'DARK', 'INTENSE', 'LIGHT', 'MODEL', 'GRK1', 'PHOTORECEPTORS', 'ILLUSTRATED', 'ABSENCE', 'LIGHT', 'LIGHT', 'DEPENDENT', 'PATHWAYS', 'INCLUDING', 'TRANSDUCIN', 'DEPENDENT', 'VISUAL', 'GRK1', 'MEDIATED', 'DEACTIVATION', 'BOTH', 'QUIESCENT', 'REGARDLESS', 'LEVELS', 'GRK1', 'LIGHT', 'BOTH', 'LIGHT', 'DEPENDENT', 'PATHWAYS', 'BECOME', 'STIMULATED', 'INCREASED', 'RHODOPSIN', 'FLOW', 'THROUGH', 'BOTH', 'DEACTIVATION', 'CHANNELS', 'THIS', 'STATE', 'BIASED', 'FLOW', 'TOWARD', 'DEACTIVATION', 'LITTLE', 'IMPACT', 'PHOTORECEPTOR', 'INTEGRITY', 'ACTUALLY', 'PROTECTIVE', 'INTENSE', 'LIGHT', 'DIFFERENTIAL', 'FLOW', 'SIGNAL', 'THROUGH', 'GRK1', 'MEDIATED', 'DEACTIVATION', 'BECOMES', 'ACTING', 'TRANSDUCIN', 'INDEPENDENT', 'CELL', 'DEATH', 'DASHED', 'ARROWS', 'FLUX', 'THROUGH', 'BELOW', 'EXPECTED', 'LEVELS', 'PROGRESSIVELY', 'BOLDER', 'SOLID', 'ARROWS', 'INCREASED', 'FLUX', 'OVER', 'THOSE', 'STATE'], ['INSULIN', 'ANALYSIS', 'SUBORDINATE', 'DOMINANT', 'MICE', 'STANDARD', 'DIET', 'COMPARED', 'CONTROLS', 'BASED', 'DATA', 'FROM', 'TISSUES', 'SHOWN', 'REPRESENTATION', 'INSULIN', 'LIVER', 'SKELETAL', 'MUSCLE', 'PATHWAYS', 'SIGNIFICANTLY', 'UPREGULATED', 'CONDITION', 'INTEREST', 'COMPARED', 'REPRESENTED', 'THIS', 'GROUP', 'NODES', 'PATHWAYS', 'SIGNIFICANTLY', 'DOWNREGULATED', 'REPRESENTED', 'NODES', 'BLUE', 'MICE', 'SHOWED', 'DOWNREGULATION', 'PATHWAYS', 'INSULIN', 'BOTH', 'LIVER', 'MUSCLE', 'CONTRAST', 'SHOWED', 'ONLY', 'UPREGULATION', 'GLYCOLYSIS', 'SKELETAL', 'MUSCLE', 'GLYCOLYSIS', 'LIPOGENESIS', 'LIVER', 'BOTH', 'MICE', 'SHOWED', 'UPREGULATED', 'FURTHER', 'DETAILS', 'REPRESENTATION', 'ANALYSIS', 'FIGURE', 'THIS', 'FIGURE', 'WILL', 'BEST', 'DESCRIBED', 'COLORS', 'ONLINE', 'VERSION'], ['PROPOSED', 'INCREASES', 'TRANSCRIPTION', 'PANCREATIC', 'CELLS', 'BINDING', 'PROTEIN', 'COUPLED', 'RECEPTOR', 'GIPR', 'ACTIVATES', 'STIMULATORY', 'PROTEIN', 'RESULTING', 'STIMULATION', 'ADENYLATE', 'CYCLASE', 'ACCUMULATION', 'CAMP', 'ACTIVE', 'CATALYTIC', 'SUBUNITS', 'RELEASED', 'FOLLOWING', 'CAMP', 'BINDING', 'REGULATORY', 'SUBUNITS', 'ENTER', 'NUCLEUS', 'PHOSPHORYLATE', 'CREB', 'WHITE', 'ARROW', 'ASSOCIATED', 'DECREASE', 'PHOSPHORYLATION', 'ACTIVITY', 'AMPK', 'THOUGHT', 'RESULT', 'DEPHOSPHORYLATION', 'TORC2', 'THUS', 'ALLOWING', 'INCREASED', 'TRANSLOCATION', 'FROM', 'CYTOPLASM', 'INTO', 'NUCLEUS', 'DASHED', 'LINES', 'INDICATE', 'INHIBITORY', 'PATHWAYS', 'MEDIATED', 'AMPK', 'PHOSPHORYLATION', 'TORC2', 'RESULTING', 'CYTOPLASMIC', 'RETENTION', 'INHIBITION', 'AMPK', 'ALLOWING', 'TORC2', 'DEPHOSPHORYLATION', 'TORC2', 'COMPLEXES', 'PHOSPHO', 'CREB', 'SER133', 'NUCLEUS', 'BINDS', 'PROMOTER', 'THUS', 'TURNING', 'TRANSCRIPTIONAL', 'MACHINERY', 'REGULATION'], ['JASMONATE', 'CORE', 'MODULATING', 'FACTORS', 'CONCEPTUAL', 'EXHAUSTIVE', 'OVERVIEW', 'PRESENTED', 'GENERAL', 'SPECIFIC', 'HERBIVORE', 'ASSOCIATED', 'PATTERNS', 'INCLUDING', 'DAMPS', 'WOUNDING', 'ACTIVATE', 'JASMONATE', 'BLUE', 'AREA', 'INCREASED', 'ACCUMULATION', 'PROMOTES', 'INTERACTION', 'PROTEINS', 'UBIQUITIN', 'LIGASE', 'SCFCOI1', 'UBIQUITIN', 'DEPENDENT', 'DEGRADATION', 'JAZS', 'PROTEASOME', 'RELEASES', 'TRANSCRIPTION', 'FACTORS', 'FROM', 'THEIR', 'BOUND', 'REPRESSED', 'STATE', 'THEREBY', 'ACTIVATING', 'EXPRESSION', 'TRANSCRIPTIONAL', 'REGULONS', 'PROMOTE', 'DEFENSE', 'INHIBIT', 'VEGETATIVE', 'GROWTH', 'INDEPENDENT', 'HORMONAL', 'PATHWAYS', 'ALSO', 'INDUCED', 'PURPLE', 'AREA', 'SEVERAL', 'HORMONES', 'INCLUDING', 'SALICYLIC', 'ACID', 'ETHYLENE', 'AUXIN', 'GIBBERELLINS', 'CYTOKININS', 'BRASSINOSTEROIDS', 'MODULATE', 'METABOLISM', 'LIGHT', 'BLUE', 'AREA', 'HERBIVORY', 'ALSO', 'LEADS', 'OXIDATIVE', 'STRESS', 'CHANGES', 'INTRACELLULAR', 'MODULATE', 'EITHER', 'DIRECTLY', 'INDIRECTLY', 'THROUGH', 'OTHER', 'HORMONES', 'TOGETHER', 'THIS', 'LEADS', 'COMPLEX', 'PHENOTYPIC', 'CHANGES', 'COMPRISE', 'BOTH', 'SPECIFIC', 'GENERAL', 'RESPONSES', 'MAJORITY', 'LINKED', 'BACK', 'JASMONATE'], ['STEP', 'WISE', 'SCHEMATIC', 'DEPICTION', 'TRANSLOCATION', 'PPASE', 'MONOMER', 'SHOWING', 'SYNTHESIS', 'STEP', 'BINDING', 'MOLECULES', 'CAUSES', 'CONFORMATIONAL', 'CHANGE', 'OPENS', 'GATE', 'EXIT', 'CHANNEL', 'SHOWN', 'PROTON', 'FROM', 'HIGH', 'CONCENTRATION', 'SIDE', 'BINDS', 'GLUTAMATE', 'RESIDUE', 'STABILIZING', 'TRANSIENT', 'STATE', 'HYDROXYL', 'ANION', 'RELEASED', 'UPON', 'SYNTHESIS', 'STEP', 'GATE', 'EXIT', 'CHANNEL', 'CLOSE', 'PROTON', 'MOVES', 'PROTON', 'WIRE', 'CONSTITUTED', 'SERIALLY', 'ARRANGED', 'RESIDUES', 'STEP', 'FINALLY', 'SYNTHESIZED', 'WATER', 'MOLECULE', 'RELEASED', 'STEP', 'PROTEIN', 'REVERTS', 'RESTING', 'STATE', 'NOTEWORTHY', 'RESIDUES', 'CONSERVED', 'PLANT', 'KINGDOM', 'ASPARTIC', 'ACID', 'ARGININE', 'GLUTAMIC', 'ACID', 'LYSINE'], ['PATHWAYS', 'INVOLVED', 'CONTROL', 'SPECIFICATION', 'EMIGRATION', 'DURING', 'TRUNK', 'ELONGATION', 'PINK', 'ACTING', 'THROUGH', 'MAPK', 'PREVENTS', 'ONSET', 'GREEN', 'SPECIFICATION', 'CAUDAL', 'NEURAL', 'TUBE', 'THROUGH', 'REGULATION', 'WNT1', 'ONSET', 'EXPRESSION', 'PALE', 'NOGGIN', 'ORANGE', 'EXPRESSION', 'CONTROLS', 'INITIATION', 'EMIGRATION', 'BLUE', 'CONTROLS', 'INITIATION', 'EMIGRATION', 'MODULATING', 'GENES', 'DASHED', 'ARROW', 'CONTROLLING', 'ONSET', 'WNT1', 'EXPRESSION', 'GRADIENT', 'PALE', 'GREEN', 'PROMOTES', 'ONSET', 'MAINTENANCE', 'EMIGRATION', 'THROUGH', 'CONTROL', 'WNT1', 'EXPRESSION', 'GRAY', 'LINES', 'DATA', 'FROM'], ['CELL', 'RECEPTORS', 'INTRACELLULAR', 'MOLECULES', 'SIGNAL', 'TRANSDUCTION', 'PATHWAYS', 'USED', 'SUPERANTIGENS', 'MEDIATORS', 'INDUCED', 'SUPERANTIGENS'], ['SCHEMATIC', 'REPRESENTATION', 'POTENTIAL', 'MECHANISMS', 'ALCOHOL', 'REGULATING', 'PDGF', 'INDUCED', 'VSMC', 'PROLIFERATION', 'MIGRATION', 'PDGF', 'PLATELET', 'DERIVED', 'GROWTH', 'FACTOR', 'ERKMAPK', 'EXTRACELLULAR', 'SIGNAL', 'REGULATED', 'KINASEMITOGEN', 'ACTIVATED', 'PROTEIN', 'KINASE', 'PI3KAKT', 'PHOSPHOINOSITIDE', 'KINASEPROTEIN', 'KINASE', 'STAT3', 'SIGNAL', 'TRANSDUCER', 'ACTIVATOR', 'TRANSCRIPTION', 'MMP2MMP9', 'MATRIX', 'METALLOPROTEINASES', 'VSMC', 'VASCULAR', 'SMOOTH', 'MUSCLE', 'CELL', 'ARROW', 'REGULATION', 'PATHWAYS', 'BLACK', 'ARROW', 'INHIBIT']]\n"
     ]
    },
    {
     "name": "stderr",
     "output_type": "stream",
     "text": [
      "\n"
     ]
    }
   ],
   "source": [
    "filteredWordList = []\n",
    "\n",
    "for wordList in tqdm.tqdm(captionList):\n",
    "    tempList = []\n",
    "    for word in wordList:\n",
    "        if word not in removableWords:\n",
    "            tempList.append(word)\n",
    "    filteredWordList.append(tempList)\n",
    "\n",
    "print(filteredWordList[:30])\n"
   ]
  },
  {
   "cell_type": "code",
   "execution_count": 40,
   "metadata": {},
   "outputs": [
    {
     "data": {
      "image/png": "[encoded data removed]",
      "text/plain": [
       "<Figure size 432x288 with 1 Axes>"
      ]
     },
     "metadata": {
      "needs_background": "light"
     },
     "output_type": "display_data"
    },
    {
     "data": {
      "text/plain": [
       "DescribeResult(nobs=64578, minmax=(0, 839), mean=70.04295580538263, variance=2834.094350010002, skewness=1.7811464235861747, kurtosis=6.2803704062231525)"
      ]
     },
     "execution_count": 40,
     "metadata": {},
     "output_type": "execute_result"
    }
   ],
   "source": [
    "filteredLens = [ len(wordList) for wordList in filteredWordList ] \n",
    "plt.hist(filteredLens,bins = 50)\n",
    "plt.ylabel('Frequency')\n",
    "plt.xlabel('Filtered caption length')\n",
    "plt.show()\n",
    "\n",
    "stats.describe(filteredLens)"
   ]
  },
  {
   "cell_type": "code",
   "execution_count": 49,
   "metadata": {},
   "outputs": [
    {
     "name": "stdout",
     "output_type": "stream",
     "text": [
      "DIABETES appears 533 times in 366 sets\n",
      "DEPRESSION appears 157 times in 115 sets\n",
      "PARKINSONS appears 194 times in 149 sets\n",
      "CANCER appears 8565 times in 4926 sets\n",
      "HEART appears 574 times in 377 sets\n"
     ]
    }
   ],
   "source": [
    "WORDSOFINTEREST = ['DIABETES','DEPRESSION','PARKINSONS','CANCER','HEART']\n",
    "\n",
    "for word in WORDSOFINTEREST:\n",
    "    tempUniqueSetCount = 0\n",
    "    for wordList in filteredWordList:\n",
    "        if word in wordList:\n",
    "            tempUniqueSetCount += 1\n",
    "    print('{word} appears {count} times in {unique} sets'.format(word=word,count=wordCounter[word],unique=tempUniqueSetCount))"
   ]
  },
  {
   "cell_type": "code",
   "execution_count": null,
   "metadata": {},
   "outputs": [],
   "source": []
  }
 ],
 "metadata": {
  "kernelspec": {
   "display_name": "Python 3",
   "language": "python",
   "name": "python3"
  },
  "language_info": {
   "codemirror_mode": {
    "name": "ipython",
    "version": 3
   },
   "file_extension": ".py",
   "mimetype": "text/x-python",
   "name": "python",
   "nbconvert_exporter": "python",
   "pygments_lexer": "ipython3",
   "version": "3.8.3"
  }
 },
 "nbformat": 4,
 "nbformat_minor": 4
}
